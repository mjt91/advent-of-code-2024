{
 "cells": [
  {
   "cell_type": "markdown",
   "id": "76d2b683-9ba9-47f8-8dd1-2a65cabefea8",
   "metadata": {},
   "source": [
    "# Advent of Code 2024"
   ]
  },
  {
   "cell_type": "markdown",
   "id": "84e1eacf-45b1-4b3e-93e2-7ad9a9626d74",
   "metadata": {},
   "source": [
    "## Day 1 Part 1"
   ]
  },
  {
   "cell_type": "code",
   "execution_count": 36,
   "id": "1f6d4337-70f1-4824-ab0b-8fca689efca5",
   "metadata": {},
   "outputs": [],
   "source": [
    "file = open(\"inputs/day1_1.txt\", \"r\").readlines()\n",
    "list1 = [int(x.split(\"   \")[0]) for x in file]\n",
    "list2 = [int(x.split(\"   \")[1]) for x in file]\n",
    "\n",
    "list1.sort()\n",
    "list2.sort()"
   ]
  },
  {
   "cell_type": "code",
   "execution_count": 54,
   "id": "dfd678d9-9962-4249-9d6b-b29aaa139e4f",
   "metadata": {},
   "outputs": [],
   "source": [
    "def distance(a: list, b: list) -> int:\n",
    "    \"\"\"Calculate the distance between two lists of tuples.\"\"\"\n",
    "    distance = [abs(x[0] - x[1]) for x in zip(a, b)]\n",
    "    return sum(distance)\n"
   ]
  },
  {
   "cell_type": "code",
   "execution_count": 55,
   "id": "f1ed3e99-728c-4dd0-abb1-13c37374b44d",
   "metadata": {},
   "outputs": [
    {
     "data": {
      "text/plain": [
       "1651298"
      ]
     },
     "execution_count": 55,
     "metadata": {},
     "output_type": "execute_result"
    }
   ],
   "source": [
    "distance(list1, list2)"
   ]
  },
  {
   "cell_type": "markdown",
   "id": "e4cf8f6f-9d67-4e4f-8cec-07202d16bdee",
   "metadata": {},
   "source": [
    "## Day 1 Part 2"
   ]
  },
  {
   "cell_type": "code",
   "execution_count": 79,
   "id": "af577596-6d8d-423a-90df-ed9863743cb9",
   "metadata": {},
   "outputs": [],
   "source": [
    "def similarity(a: list, b: list) -> int:\n",
    "    result = []\n",
    "    for num1 in a:\n",
    "        mult = 0\n",
    "        for num2 in b:\n",
    "             if num1 == num2:\n",
    "                 mult += 1\n",
    "        result.append(num1 * mult)\n",
    "    return sum(result)"
   ]
  },
  {
   "cell_type": "code",
   "execution_count": 81,
   "id": "d7f8b311-3472-4b89-8728-32321e428956",
   "metadata": {
    "scrolled": true
   },
   "outputs": [
    {
     "data": {
      "text/plain": [
       "21306195"
      ]
     },
     "execution_count": 81,
     "metadata": {},
     "output_type": "execute_result"
    }
   ],
   "source": [
    "similarity(list1, list2)"
   ]
  },
  {
   "cell_type": "markdown",
   "id": "3f2c0c7e-acfb-4d4e-8516-c4c4c7bfae07",
   "metadata": {},
   "source": [
    "## Day 2 Part 1"
   ]
  },
  {
   "cell_type": "code",
   "execution_count": 93,
   "id": "cd5b955c-88d8-4125-97ef-b69dc2ba2cb3",
   "metadata": {},
   "outputs": [],
   "source": [
    "def rule1(nums: list) -> bool:\n",
    "    \"\"\"All subsequent numbers are increasing or decreasing.\"\"\"\n",
    "    res1 = all(i < j for i, j in zip(nums, nums[1:]))\n",
    "    res2 = all(i > j for i, j in zip(nums, nums[1:]))\n",
    "    return res1 or res2"
   ]
  },
  {
   "cell_type": "code",
   "execution_count": 188,
   "id": "8cb1dc54-fb24-4140-9c04-5279c85bfc0d",
   "metadata": {},
   "outputs": [
    {
     "name": "stdout",
     "output_type": "stream",
     "text": [
      "True\n",
      "True\n",
      "True\n",
      "False\n",
      "False\n",
      "True\n"
     ]
    }
   ],
   "source": [
    "test1 = [7, 6, 4, 2, 1]\n",
    "test2 = [1, 2, 7, 8, 9]\n",
    "test3 = [9, 7, 6, 2, 1]\n",
    "test4 = [1, 3, 2, 4, 5]\n",
    "test5 = [8, 6, 4, 4, 1]\n",
    "test6 = [1, 3, 6, 7, 9]\n",
    "\n",
    "print(rule1(test1))\n",
    "print(rule1(test2))\n",
    "print(rule1(test3))\n",
    "print(rule1(test4))\n",
    "print(rule1(test5))\n",
    "print(rule1(test6))"
   ]
  },
  {
   "cell_type": "code",
   "execution_count": 110,
   "id": "82b30125-db32-4694-b49d-f99bbde6751d",
   "metadata": {},
   "outputs": [],
   "source": [
    "def rule2(nums: list) -> bool:\n",
    "    \"\"\"Any two adjacent levels differ by at leas one and at most three\"\"\"\n",
    "    res1 = all(abs(i-j) >= 1 for i, j in zip(nums, nums[1:]))\n",
    "    res2 = all(abs(i-j) <= 3 for i, j in zip(nums, nums[1:]))\n",
    "    return res1 and res2"
   ]
  },
  {
   "cell_type": "code",
   "execution_count": 189,
   "id": "dbac8329-84f5-45af-ab88-e7696455d20f",
   "metadata": {},
   "outputs": [
    {
     "name": "stdout",
     "output_type": "stream",
     "text": [
      "True\n",
      "False\n",
      "False\n",
      "True\n",
      "False\n",
      "True\n"
     ]
    }
   ],
   "source": [
    "print(rule2(test1))\n",
    "print(rule2(test2))\n",
    "print(rule2(test3))\n",
    "print(rule2(test4))\n",
    "print(rule2(test5))\n",
    "print(rule2(test6))"
   ]
  },
  {
   "cell_type": "code",
   "execution_count": 118,
   "id": "56bfb70d-a898-4293-bd23-5b9809dda23a",
   "metadata": {},
   "outputs": [],
   "source": [
    "def check_report(nums: list):\n",
    "    return (rule1(nums) and rule2(nums))"
   ]
  },
  {
   "cell_type": "code",
   "execution_count": 190,
   "id": "55deaaff-a155-43f0-a52e-528d0a716d5d",
   "metadata": {},
   "outputs": [
    {
     "name": "stdout",
     "output_type": "stream",
     "text": [
      "True\n",
      "False\n",
      "False\n",
      "False\n",
      "False\n",
      "True\n"
     ]
    }
   ],
   "source": [
    "print(check_report(test1))\n",
    "print(check_report(test2))\n",
    "print(check_report(test3))\n",
    "print(check_report(test4))\n",
    "print(check_report(test5))\n",
    "print(check_report(test6))"
   ]
  },
  {
   "cell_type": "code",
   "execution_count": 133,
   "id": "b1b16c2c-96aa-4fbf-8034-ffef00fbd147",
   "metadata": {},
   "outputs": [
    {
     "data": {
      "text/plain": [
       "269"
      ]
     },
     "execution_count": 133,
     "metadata": {},
     "output_type": "execute_result"
    }
   ],
   "source": [
    "result = []\n",
    "for line in open(\"inputs/day2_1.txt\", \"r\").readlines():\n",
    "    report = [int(i) for i in line.split(\" \")]\n",
    "    result.append(check_report(report))\n",
    "\n",
    "sum(result)"
   ]
  },
  {
   "cell_type": "markdown",
   "id": "69a14e8e-c92e-4bc8-ad6b-4c1e29bd25cb",
   "metadata": {},
   "source": [
    "## Day 2 Part 2"
   ]
  },
  {
   "cell_type": "code",
   "execution_count": 147,
   "id": "9182f3ea-13d2-4590-bdbb-ce0f8c95bf78",
   "metadata": {},
   "outputs": [],
   "source": [
    "def check_sublists(nums, i):\n",
    "    nums.pop(i)\n",
    "    return (rule1(nums) and rule2(nums))"
   ]
  },
  {
   "cell_type": "code",
   "execution_count": 200,
   "id": "4b4abbbd-24b6-4931-aa3b-7b600a09d216",
   "metadata": {},
   "outputs": [],
   "source": [
    "def check_report_with_problem_dampener(nums):\n",
    "    if (rule1(nums) and rule2(nums)): return True\n",
    "    else: return any(check_sublists(nums.copy(), i) for i in range(len(nums)))\n"
   ]
  },
  {
   "cell_type": "code",
   "execution_count": 201,
   "id": "01d812aa-7dc4-45e5-b0d8-7934ff486385",
   "metadata": {},
   "outputs": [
    {
     "name": "stdout",
     "output_type": "stream",
     "text": [
      "True\n",
      "False\n",
      "False\n",
      "True\n",
      "True\n",
      "True\n"
     ]
    }
   ],
   "source": [
    "print(check_report_with_problem_dampener(test1))\n",
    "print(check_report_with_problem_dampener(test2))\n",
    "print(check_report_with_problem_dampener(test3))\n",
    "print(check_report_with_problem_dampener(test4))\n",
    "print(check_report_with_problem_dampener(test5))\n",
    "print(check_report_with_problem_dampener(test6))"
   ]
  },
  {
   "cell_type": "code",
   "execution_count": 202,
   "id": "81e9dc76-2a8c-47e1-888e-a88ac8435f45",
   "metadata": {},
   "outputs": [
    {
     "data": {
      "text/plain": [
       "337"
      ]
     },
     "execution_count": 202,
     "metadata": {},
     "output_type": "execute_result"
    }
   ],
   "source": [
    "result = []\n",
    "for line in open(\"inputs/day2_1.txt\", \"r\").readlines():\n",
    "    report = [int(i) for i in line.split(\" \")]\n",
    "    result.append(check_report_with_problem_dampener(report))\n",
    "\n",
    "sum(result)"
   ]
  },
  {
   "cell_type": "markdown",
   "id": "052b1153-045b-48be-a08e-1c760fc451b6",
   "metadata": {},
   "source": [
    "## Day 3 Part 1"
   ]
  },
  {
   "cell_type": "code",
   "execution_count": 1,
   "id": "1e5640a4-3a55-40b6-8a29-6ca16f16a762",
   "metadata": {},
   "outputs": [
    {
     "name": "stdout",
     "output_type": "stream",
     "text": [
      "['mul(2,4)', 'mul(5,5)', 'mul(11,8)', 'mul(8,5)']\n"
     ]
    }
   ],
   "source": [
    "import re\n",
    "\n",
    "test1 = \"xmul(2,4)%&mul[3,7]!@^do_not_mul(5,5)+mul(32,64]then(mul(11,8)mul(8,5))\"\n",
    "pattern = r\"mul\\(\\d+,\\d+\\)\"\n",
    "matches = re.findall(pattern, test1)\n",
    "print(matches)"
   ]
  },
  {
   "cell_type": "code",
   "execution_count": 8,
   "id": "5df0dae6-e00c-4b7a-bda6-564a49e06a5e",
   "metadata": {},
   "outputs": [],
   "source": [
    "def extract_mul(s: str, pattern = r\"mul\\((\\d+),(\\d+)\\)\"):\n",
    "    matches = re.findall(pattern, s)\n",
    "    matches = [(int(x), int(y)) for x, y in matches]\n",
    "    result = []\n",
    "    for t in matches:\n",
    "        result.append(t[0] * t[1])\n",
    "\n",
    "    return result"
   ]
  },
  {
   "cell_type": "code",
   "execution_count": 3,
   "id": "d3da65c3-083c-4766-95e5-4de1149386d7",
   "metadata": {},
   "outputs": [
    {
     "data": {
      "text/plain": [
       "161"
      ]
     },
     "execution_count": 3,
     "metadata": {},
     "output_type": "execute_result"
    }
   ],
   "source": [
    "# Test str\n",
    "sum(extract_mul(test1))"
   ]
  },
  {
   "cell_type": "code",
   "execution_count": 4,
   "id": "63342c6a-e1e8-4d77-9daf-1137f3291c30",
   "metadata": {
    "scrolled": true
   },
   "outputs": [
    {
     "data": {
      "text/plain": [
       "173517243"
      ]
     },
     "execution_count": 4,
     "metadata": {},
     "output_type": "execute_result"
    }
   ],
   "source": [
    "result = []\n",
    "for line in open(\"inputs/day3_1.txt\", \"r\").readlines():\n",
    "    result.append(sum(extract_mul(line)))\n",
    "\n",
    "sum(result)"
   ]
  },
  {
   "cell_type": "markdown",
   "id": "6d9e771b-6471-4c2e-a233-def3b8d5d7e4",
   "metadata": {},
   "source": [
    "## Day 3 Part 2"
   ]
  },
  {
   "cell_type": "code",
   "execution_count": 12,
   "id": "dd3604b6-59fe-4528-857c-89923cdb3868",
   "metadata": {},
   "outputs": [
    {
     "data": {
      "text/plain": [
       "['xmul(2,4)&mul[3,7]!^', '()_mul(5,5)+mul(32,64](mul(11,8)undo()?mul(8,5))']"
      ]
     },
     "execution_count": 12,
     "metadata": {},
     "output_type": "execute_result"
    }
   ],
   "source": [
    "test2 = \"xmul(2,4)&mul[3,7]!^don't()_mul(5,5)+mul(32,64](mul(11,8)undo()?mul(8,5))\"\n",
    "test2.split(\"don't\")"
   ]
  },
  {
   "cell_type": "code",
   "execution_count": 123,
   "id": "0834f920-93e4-46fd-abec-58f00ea34a46",
   "metadata": {},
   "outputs": [
    {
     "name": "stdout",
     "output_type": "stream",
     "text": [
      "xmul(2,4)&mul[3,7]!^\n",
      "()_mul(5,5)+mul(32,64](mul(11,8)undo()?mul(8,5))\n"
     ]
    }
   ],
   "source": [
    "for s in test2.split(\"don't\"):\n",
    "    print(s)"
   ]
  },
  {
   "cell_type": "markdown",
   "id": "8d91cc8c-2b85-41d8-9419-55768fdad69e",
   "metadata": {},
   "source": [
    "### Idea\n",
    "\n",
    "1. Split on `don't`\n",
    "2. First entry is always to be extracted using `extract_mul`\n",
    "3. If split on `do` of remaining string returns a list of length 1 means dont was preceeding thus dont calculate\n",
    "4. Else split on do and calculate for all remaining strings"
   ]
  },
  {
   "cell_type": "code",
   "execution_count": 73,
   "id": "0530ba1e-a1e0-4b0e-b54b-aa4f4415f99e",
   "metadata": {},
   "outputs": [
    {
     "data": {
      "text/plain": [
       "['xmul(2,4)&mul[3,7]!^', '()_mul(5,5)+mul(32,64](mul(11,8)undo()?mul(8,5))']"
      ]
     },
     "execution_count": 73,
     "metadata": {},
     "output_type": "execute_result"
    }
   ],
   "source": [
    "test_list = test2.split(\"don't\")\n",
    "test_list"
   ]
  },
  {
   "cell_type": "code",
   "execution_count": 72,
   "id": "5e58e659-4639-4301-87a6-525e2c4388a8",
   "metadata": {},
   "outputs": [
    {
     "name": "stdout",
     "output_type": "stream",
     "text": [
      "[8]\n",
      "[25, 88, 40]\n"
     ]
    }
   ],
   "source": [
    "for s in test2.split(\"don't\"):\n",
    "    print(solve(s, pattern=\"do\"))"
   ]
  },
  {
   "cell_type": "code",
   "execution_count": 134,
   "id": "873ee9b2-4a0d-4759-aa36-ecbf2f4159ba",
   "metadata": {},
   "outputs": [],
   "source": [
    "def solve(s: str):\n",
    "    lst = s.split(\"don't\")\n",
    "    result = [extract_mul(lst[0])] #First entry always allowed\n",
    "    for text in lst[1:]:\n",
    "        lst_2 = text.split(\"do\")\n",
    "        if len(lst_2) == 1:\n",
    "            result.append([0])\n",
    "        else:\n",
    "            full = \"\".join(lst_2[1:])\n",
    "            result.append(extract_mul(full))\n",
    "    \n",
    "    return result"
   ]
  },
  {
   "cell_type": "code",
   "execution_count": 135,
   "id": "dfbb0402-43f4-49a4-bf76-e9fc3fdd93b0",
   "metadata": {},
   "outputs": [
    {
     "data": {
      "text/plain": [
       "[[344715],\n",
       " [674520,\n",
       "  363792,\n",
       "  463986,\n",
       "  117450,\n",
       "  165165,\n",
       "  427547,\n",
       "  110633,\n",
       "  154880,\n",
       "  342369,\n",
       "  412650,\n",
       "  188871,\n",
       "  604192,\n",
       "  268990],\n",
       " [248768,\n",
       "  49680,\n",
       "  42660,\n",
       "  465612,\n",
       "  859959,\n",
       "  161544,\n",
       "  317070,\n",
       "  282744,\n",
       "  12906,\n",
       "  226572,\n",
       "  81540,\n",
       "  189394,\n",
       "  503612,\n",
       "  13468,\n",
       "  13981,\n",
       "  59850,\n",
       "  15456,\n",
       "  121437,\n",
       "  217062,\n",
       "  180095,\n",
       "  370],\n",
       " [3840,\n",
       "  50920,\n",
       "  93425,\n",
       "  679212,\n",
       "  29945,\n",
       "  594895,\n",
       "  213750,\n",
       "  220702,\n",
       "  58962,\n",
       "  32630,\n",
       "  458227,\n",
       "  56840],\n",
       " [0],\n",
       " [0],\n",
       " [30907, 32568, 5916]]"
      ]
     },
     "execution_count": 135,
     "metadata": {},
     "output_type": "execute_result"
    }
   ],
   "source": [
    "solve(test3)"
   ]
  },
  {
   "cell_type": "code",
   "execution_count": 136,
   "id": "b00c0098-7ea8-4da5-b538-a8f0f62b8c5e",
   "metadata": {},
   "outputs": [
    {
     "data": {
      "text/plain": [
       "11266279"
      ]
     },
     "execution_count": 136,
     "metadata": {},
     "output_type": "execute_result"
    }
   ],
   "source": [
    "# solve(test2)\n",
    "\n",
    "flat_list = [\n",
    "    x\n",
    "    for xs in solve(test3)\n",
    "    for x in xs\n",
    "]\n",
    "\n",
    "sum(flat_list)"
   ]
  },
  {
   "cell_type": "code",
   "execution_count": 113,
   "id": "0e8fee36-9100-4ddd-a585-3368b33b4297",
   "metadata": {},
   "outputs": [
    {
     "data": {
      "text/plain": [
       "[30907, 32568, 5916]"
      ]
     },
     "execution_count": 113,
     "metadata": {},
     "output_type": "execute_result"
    }
   ],
   "source": [
    "result = []\n",
    "for s in test_list3[1:]:\n",
    "    lst = s.split(\"do\")\n",
    "    # print(s)\n",
    "    # print(lst)\n",
    "    # print(len(lst))\n",
    "    if len(lst) == 1:\n",
    "        result.append(0)\n",
    "    else:\n",
    "        t = \"\".join(lst[1:])\n",
    "        result = extract_mul(t)\n",
    "\n",
    "result"
   ]
  },
  {
   "cell_type": "code",
   "execution_count": 131,
   "id": "6e6a378c-90b5-4e25-bdb9-803cc917d232",
   "metadata": {},
   "outputs": [],
   "source": [
    "test3 = \"why()$mul(735,469)^?!what()don't()~~('mul(982,758)what()^-^who()mul(294,364)&#/ )&%)[~mul(285,81)what()[{where()+ mul(129,761)^]why()>$^<>who()mul(53,344)select()%mul(567,352),mul(915,20)/#(>+^how()'mul(141,658){&~!how()from()?~?who()mul(830,116)#%;mul(139,634)?,#+who()@mul(169,719)[)?'-who();mul(18,751)},when(){;/mul(691,391)mul(856,314)^mul(558,88)]('/>how()@where()(,mul(274,100)%who()#~*mul(220,748)@how(){$how()/*%$when()mul(718,754)[!when(617,291)!{(what()+*do()[;<+ /from()[mul(840,803)}?mul(429,848)?select()how()^why()],&#select()mul(519,894){ !>:^@+mul(522,225)@!^^/'[>select(118,66)>mul(847,195)when(585,749)]mul(641,667):>mul(317,349) +:/^*what()mul(352,440)select()mul(349,981))@mul(450,917)why()how()mul(471,401)?where():}select():mul(632,956))mul(727,370)!}$~*%+$don't()why()select()^]who():mul(276,773)*^^mul(757,668):}mul(232,346)%[*@$ where()mul(898,992)who()why()~+['mul(43,434),where()who()>what()mul(908,953)select();do()}!select()when()!mul(676,368)how()from(966,785)@:$+)how()mul(414,120)mul(108,395) +~{#!@select(),mul(483,964)&do()?>mul(963,893)$,,/%'mul(318,508)?,{mul(390,813)select()>(select()mul(792,357)!{where();mul(717,18)why()$#]why()$^?mul(948,239)how()&>$from()]:>?select()mul(453,180)&&]&,[how()mul(674,281);*how()mul(548,919)how()]{{who()~+where()where()&mul(962,14)/why(),%>when()mul(31,451)/)&:,>}mul(225,266)-*)where()who()]#mul(224,69)#&-+~mul(309,393)@#;%!(][select()mul(389,558)+*how()*^+when()]when()mul(995,181);(mul(5,74)&(#^from()$~&don't()}? ,($ when()mul(216,767)>()!<mul(608,375),*mul(504,987)(/mul(398,418)][mul(39,637)mul(708,979)-]>,/how():@mul(425,905):]>>from()mul(93,831)}select()(mul(70,72)mul(137,510)[]{where()mul(477,400)&?/who()who(335,756){/mul(364,311),$select()what()mul(710,251){mul(351,763)+-}mul(517,661)mul!}?how()where()mul(948,407)-{<]*^from()who()from()mul(979,180)/,:#mul(602,496)%'what(),#}what()~how()mul(343,710))'when()from()#mul(314,877)(+,[?mul(480,685),;do()%<from()}where()]%{#:mul(256,15)]^]mul[$%;where()where()mul(134,380);^where();*mul(505,185)how()what()mul(684,993)%/from(){select()why()mul(265,113)who()@,mul(739,805)what()<}[$$:,mul(570,375))[mul(677,326)-{why()?<how()% mul(186,317)>*<^)from()what()#@what()mul(502,65)where()why()(!*where()from(){/mul(847,541)mul(116,490)]';how(612,404))when()who()&; don't()mul(446,220)(%'?;{^?mul(784,876);)]mul(959,402)%]];mul(362,432)mul(330,805)where()mul(142,473)~don't()-who()mul(965,688)when()[]):-}from()%mul(949,478)why()>~+,!&~,select()mul(633,237!-who()>where()]mul(809,464){@'/when()when()mul(720,462)&select()select() )@}'~how()mul(518,133)mul(512,118)/}what()*][++mul(56,978when(),where()&don't()who()}where()mul(329,879))&$,:when()#when()@what()mul)~who()(;mul(141,130)'?^}#+#from()'-mul(237,78)&what();];%where(614,809){:mul(391,45)mul(787,970)from()-?&~when()mul(59,790) what()where()~?what()mul(399,503)^from()where()when()mul(190,97);why()who() ,select(){mul(428,654)mul(350,302)?{mul(592,241)when()how()mul(705,191)who() !who()mul(50,6)~'from()% &]mul(902,106),select();/ why()from()>mul(800,867)select(659,586)~ )when()}~&'mul(709,298)-:'do()[who()what() mul(31,997)$%(where(309,559)%: mul(177,184)@mul(58,102)\""
   ]
  },
  {
   "cell_type": "code",
   "execution_count": 141,
   "id": "72acd228-7354-4d04-9263-8c19ac742bf0",
   "metadata": {
    "scrolled": true
   },
   "outputs": [],
   "source": [
    "result = []\n",
    "for line in open(\"inputs/day3_1.txt\", \"r\").readlines():\n",
    "    result.append(solve(line))\n",
    "\n",
    "result_flat = [\n",
    "    x\n",
    "    for xs in result\n",
    "    for x in xs\n",
    "]\n",
    "\n",
    "result_flat2 = [\n",
    "    x\n",
    "    for xs in result_flat\n",
    "    for x in xs\n",
    "]\n"
   ]
  },
  {
   "cell_type": "code",
   "execution_count": 144,
   "id": "574770e9-2aed-4aa4-895c-e503d6ce2ead",
   "metadata": {
    "scrolled": true
   },
   "outputs": [
    {
     "data": {
      "text/plain": [
       "102360389"
      ]
     },
     "execution_count": 144,
     "metadata": {},
     "output_type": "execute_result"
    }
   ],
   "source": [
    "sum(result_flat2)"
   ]
  },
  {
   "cell_type": "code",
   "execution_count": null,
   "id": "f98f4e26-a04e-49ff-b201-daaff991d47e",
   "metadata": {},
   "outputs": [],
   "source": []
  }
 ],
 "metadata": {
  "kernelspec": {
   "display_name": "Python 3 (ipykernel)",
   "language": "python",
   "name": "python3"
  },
  "language_info": {
   "codemirror_mode": {
    "name": "ipython",
    "version": 3
   },
   "file_extension": ".py",
   "mimetype": "text/x-python",
   "name": "python",
   "nbconvert_exporter": "python",
   "pygments_lexer": "ipython3",
   "version": "3.12.2"
  }
 },
 "nbformat": 4,
 "nbformat_minor": 5
}
