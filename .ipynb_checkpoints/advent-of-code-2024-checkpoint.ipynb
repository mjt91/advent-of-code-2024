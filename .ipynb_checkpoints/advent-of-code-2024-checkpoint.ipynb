{
 "cells": [
  {
   "cell_type": "markdown",
   "id": "76d2b683-9ba9-47f8-8dd1-2a65cabefea8",
   "metadata": {},
   "source": [
    "# Advent of Code 2024"
   ]
  },
  {
   "cell_type": "markdown",
   "id": "84e1eacf-45b1-4b3e-93e2-7ad9a9626d74",
   "metadata": {},
   "source": [
    "## Day 1 Part 1"
   ]
  },
  {
   "cell_type": "code",
   "execution_count": 36,
   "id": "1f6d4337-70f1-4824-ab0b-8fca689efca5",
   "metadata": {},
   "outputs": [],
   "source": [
    "file = open(\"inputs/day1_1.txt\", \"r\").readlines()\n",
    "list1 = [int(x.split(\"   \")[0]) for x in file]\n",
    "list2 = [int(x.split(\"   \")[1]) for x in file]\n",
    "\n",
    "list1.sort()\n",
    "list2.sort()"
   ]
  },
  {
   "cell_type": "code",
   "execution_count": 54,
   "id": "dfd678d9-9962-4249-9d6b-b29aaa139e4f",
   "metadata": {},
   "outputs": [],
   "source": [
    "def distance(a: list, b: list) -> int:\n",
    "    \"\"\"Calculate the distance between two lists of tuples.\"\"\"\n",
    "    distance = [abs(x[0] - x[1]) for x in zip(a, b)]\n",
    "    return sum(distance)\n"
   ]
  },
  {
   "cell_type": "code",
   "execution_count": 55,
   "id": "f1ed3e99-728c-4dd0-abb1-13c37374b44d",
   "metadata": {},
   "outputs": [
    {
     "data": {
      "text/plain": [
       "1651298"
      ]
     },
     "execution_count": 55,
     "metadata": {},
     "output_type": "execute_result"
    }
   ],
   "source": [
    "distance(list1, list2)"
   ]
  },
  {
   "cell_type": "markdown",
   "id": "e4cf8f6f-9d67-4e4f-8cec-07202d16bdee",
   "metadata": {},
   "source": [
    "## Day 1 Part 2"
   ]
  },
  {
   "cell_type": "code",
   "execution_count": 79,
   "id": "af577596-6d8d-423a-90df-ed9863743cb9",
   "metadata": {},
   "outputs": [],
   "source": [
    "def similarity(a: list, b: list) -> int:\n",
    "    result = []\n",
    "    for num1 in a:\n",
    "        mult = 0\n",
    "        for num2 in b:\n",
    "             if num1 == num2:\n",
    "                 mult += 1\n",
    "        result.append(num1 * mult)\n",
    "    return sum(result)"
   ]
  },
  {
   "cell_type": "code",
   "execution_count": 81,
   "id": "d7f8b311-3472-4b89-8728-32321e428956",
   "metadata": {
    "scrolled": true
   },
   "outputs": [
    {
     "data": {
      "text/plain": [
       "21306195"
      ]
     },
     "execution_count": 81,
     "metadata": {},
     "output_type": "execute_result"
    }
   ],
   "source": [
    "similarity(list1, list2)"
   ]
  },
  {
   "cell_type": "markdown",
   "id": "3f2c0c7e-acfb-4d4e-8516-c4c4c7bfae07",
   "metadata": {},
   "source": [
    "## Day 2 Part 1"
   ]
  },
  {
   "cell_type": "code",
   "execution_count": 93,
   "id": "cd5b955c-88d8-4125-97ef-b69dc2ba2cb3",
   "metadata": {},
   "outputs": [],
   "source": [
    "def rule1(nums: list) -> bool:\n",
    "    \"\"\"All subsequent numbers are increasing or decreasing.\"\"\"\n",
    "    res1 = all(i < j for i, j in zip(nums, nums[1:]))\n",
    "    res2 = all(i > j for i, j in zip(nums, nums[1:]))\n",
    "    return res1 or res2"
   ]
  },
  {
   "cell_type": "code",
   "execution_count": 188,
   "id": "8cb1dc54-fb24-4140-9c04-5279c85bfc0d",
   "metadata": {},
   "outputs": [
    {
     "name": "stdout",
     "output_type": "stream",
     "text": [
      "True\n",
      "True\n",
      "True\n",
      "False\n",
      "False\n",
      "True\n"
     ]
    }
   ],
   "source": [
    "test1 = [7, 6, 4, 2, 1]\n",
    "test2 = [1, 2, 7, 8, 9]\n",
    "test3 = [9, 7, 6, 2, 1]\n",
    "test4 = [1, 3, 2, 4, 5]\n",
    "test5 = [8, 6, 4, 4, 1]\n",
    "test6 = [1, 3, 6, 7, 9]\n",
    "\n",
    "print(rule1(test1))\n",
    "print(rule1(test2))\n",
    "print(rule1(test3))\n",
    "print(rule1(test4))\n",
    "print(rule1(test5))\n",
    "print(rule1(test6))"
   ]
  },
  {
   "cell_type": "code",
   "execution_count": 110,
   "id": "82b30125-db32-4694-b49d-f99bbde6751d",
   "metadata": {},
   "outputs": [],
   "source": [
    "def rule2(nums: list) -> bool:\n",
    "    \"\"\"Any two adjacent levels differ by at leas one and at most three\"\"\"\n",
    "    res1 = all(abs(i-j) >= 1 for i, j in zip(nums, nums[1:]))\n",
    "    res2 = all(abs(i-j) <= 3 for i, j in zip(nums, nums[1:]))\n",
    "    return res1 and res2"
   ]
  },
  {
   "cell_type": "code",
   "execution_count": 189,
   "id": "dbac8329-84f5-45af-ab88-e7696455d20f",
   "metadata": {},
   "outputs": [
    {
     "name": "stdout",
     "output_type": "stream",
     "text": [
      "True\n",
      "False\n",
      "False\n",
      "True\n",
      "False\n",
      "True\n"
     ]
    }
   ],
   "source": [
    "print(rule2(test1))\n",
    "print(rule2(test2))\n",
    "print(rule2(test3))\n",
    "print(rule2(test4))\n",
    "print(rule2(test5))\n",
    "print(rule2(test6))"
   ]
  },
  {
   "cell_type": "code",
   "execution_count": 118,
   "id": "56bfb70d-a898-4293-bd23-5b9809dda23a",
   "metadata": {},
   "outputs": [],
   "source": [
    "def check_report(nums: list):\n",
    "    return (rule1(nums) and rule2(nums))"
   ]
  },
  {
   "cell_type": "code",
   "execution_count": 190,
   "id": "55deaaff-a155-43f0-a52e-528d0a716d5d",
   "metadata": {},
   "outputs": [
    {
     "name": "stdout",
     "output_type": "stream",
     "text": [
      "True\n",
      "False\n",
      "False\n",
      "False\n",
      "False\n",
      "True\n"
     ]
    }
   ],
   "source": [
    "print(check_report(test1))\n",
    "print(check_report(test2))\n",
    "print(check_report(test3))\n",
    "print(check_report(test4))\n",
    "print(check_report(test5))\n",
    "print(check_report(test6))"
   ]
  },
  {
   "cell_type": "code",
   "execution_count": 133,
   "id": "b1b16c2c-96aa-4fbf-8034-ffef00fbd147",
   "metadata": {},
   "outputs": [
    {
     "data": {
      "text/plain": [
       "269"
      ]
     },
     "execution_count": 133,
     "metadata": {},
     "output_type": "execute_result"
    }
   ],
   "source": [
    "result = []\n",
    "for line in open(\"inputs/day2_1.txt\", \"r\").readlines():\n",
    "    report = [int(i) for i in line.split(\" \")]\n",
    "    result.append(check_report(report))\n",
    "\n",
    "sum(result)"
   ]
  },
  {
   "cell_type": "markdown",
   "id": "69a14e8e-c92e-4bc8-ad6b-4c1e29bd25cb",
   "metadata": {},
   "source": [
    "## Day 2 Part 2"
   ]
  },
  {
   "cell_type": "code",
   "execution_count": 147,
   "id": "9182f3ea-13d2-4590-bdbb-ce0f8c95bf78",
   "metadata": {},
   "outputs": [],
   "source": [
    "def check_sublists(nums, i):\n",
    "    nums.pop(i)\n",
    "    return (rule1(nums) and rule2(nums))"
   ]
  },
  {
   "cell_type": "code",
   "execution_count": 200,
   "id": "4b4abbbd-24b6-4931-aa3b-7b600a09d216",
   "metadata": {},
   "outputs": [],
   "source": [
    "def check_report_with_problem_dampener(nums):\n",
    "    if (rule1(nums) and rule2(nums)): return True\n",
    "    else: return any(check_sublists(nums.copy(), i) for i in range(len(nums)))\n"
   ]
  },
  {
   "cell_type": "code",
   "execution_count": 201,
   "id": "01d812aa-7dc4-45e5-b0d8-7934ff486385",
   "metadata": {},
   "outputs": [
    {
     "name": "stdout",
     "output_type": "stream",
     "text": [
      "True\n",
      "False\n",
      "False\n",
      "True\n",
      "True\n",
      "True\n"
     ]
    }
   ],
   "source": [
    "print(check_report_with_problem_dampener(test1))\n",
    "print(check_report_with_problem_dampener(test2))\n",
    "print(check_report_with_problem_dampener(test3))\n",
    "print(check_report_with_problem_dampener(test4))\n",
    "print(check_report_with_problem_dampener(test5))\n",
    "print(check_report_with_problem_dampener(test6))"
   ]
  },
  {
   "cell_type": "code",
   "execution_count": 202,
   "id": "81e9dc76-2a8c-47e1-888e-a88ac8435f45",
   "metadata": {},
   "outputs": [
    {
     "data": {
      "text/plain": [
       "337"
      ]
     },
     "execution_count": 202,
     "metadata": {},
     "output_type": "execute_result"
    }
   ],
   "source": [
    "result = []\n",
    "for line in open(\"inputs/day2_1.txt\", \"r\").readlines():\n",
    "    report = [int(i) for i in line.split(\" \")]\n",
    "    result.append(check_report_with_problem_dampener(report))\n",
    "\n",
    "sum(result)"
   ]
  },
  {
   "cell_type": "markdown",
   "id": "052b1153-045b-48be-a08e-1c760fc451b6",
   "metadata": {},
   "source": [
    "## Day 3 Part 1"
   ]
  },
  {
   "cell_type": "code",
   "execution_count": 2,
   "id": "1e5640a4-3a55-40b6-8a29-6ca16f16a762",
   "metadata": {},
   "outputs": [
    {
     "name": "stdout",
     "output_type": "stream",
     "text": [
      "['mul(2,4)', 'mul(5,5)', 'mul(11,8)', 'mul(8,5)']\n"
     ]
    }
   ],
   "source": [
    "import re\n",
    "\n",
    "test1 = \"xmul(2,4)%&mul[3,7]!@^do_not_mul(5,5)+mul(32,64]then(mul(11,8)mul(8,5))\"\n",
    "pattern = r\"mul\\(\\d+,\\d+\\)\"\n",
    "matches = re.findall(pattern, test1)\n",
    "print(matches)"
   ]
  },
  {
   "cell_type": "code",
   "execution_count": 30,
   "id": "5df0dae6-e00c-4b7a-bda6-564a49e06a5e",
   "metadata": {},
   "outputs": [],
   "source": [
    "def extract_mul(s: str, pattern = r\"mul\\((\\d+),(\\d+)\\)\"):\n",
    "    matches = re.findall(pattern, s)\n",
    "    matches = [(int(x), int(y)) for x, y in matches]\n",
    "    result = []\n",
    "    for t in matches:\n",
    "        result.append(t[0] * t[1])\n",
    "\n",
    "    return result"
   ]
  },
  {
   "cell_type": "code",
   "execution_count": 31,
   "id": "d3da65c3-083c-4766-95e5-4de1149386d7",
   "metadata": {},
   "outputs": [
    {
     "data": {
      "text/plain": [
       "161"
      ]
     },
     "execution_count": 31,
     "metadata": {},
     "output_type": "execute_result"
    }
   ],
   "source": [
    "# Test str\n",
    "sum(extract_mul(test1))"
   ]
  },
  {
   "cell_type": "code",
   "execution_count": 38,
   "id": "63342c6a-e1e8-4d77-9daf-1137f3291c30",
   "metadata": {
    "scrolled": true
   },
   "outputs": [
    {
     "data": {
      "text/plain": [
       "173517243"
      ]
     },
     "execution_count": 38,
     "metadata": {},
     "output_type": "execute_result"
    }
   ],
   "source": [
    "result = []\n",
    "for line in open(\"inputs/day3_1.txt\", \"r\").readlines():\n",
    "    result.append(sum(extract_mul(line)))\n",
    "\n",
    "sum(result)"
   ]
  },
  {
   "cell_type": "markdown",
   "id": "6d9e771b-6471-4c2e-a233-def3b8d5d7e4",
   "metadata": {},
   "source": [
    "## Day 3 Part 2"
   ]
  },
  {
   "cell_type": "code",
   "execution_count": null,
   "id": "dd3604b6-59fe-4528-857c-89923cdb3868",
   "metadata": {},
   "outputs": [],
   "source": []
  }
 ],
 "metadata": {
  "kernelspec": {
   "display_name": "Python 3 (ipykernel)",
   "language": "python",
   "name": "python3"
  },
  "language_info": {
   "codemirror_mode": {
    "name": "ipython",
    "version": 3
   },
   "file_extension": ".py",
   "mimetype": "text/x-python",
   "name": "python",
   "nbconvert_exporter": "python",
   "pygments_lexer": "ipython3",
   "version": "3.12.2"
  }
 },
 "nbformat": 4,
 "nbformat_minor": 5
}
