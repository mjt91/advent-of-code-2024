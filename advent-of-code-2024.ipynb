{
 "cells": [
  {
   "cell_type": "markdown",
   "id": "76d2b683-9ba9-47f8-8dd1-2a65cabefea8",
   "metadata": {},
   "source": [
    "# Advent of Code 2024"
   ]
  },
  {
   "cell_type": "markdown",
   "id": "84e1eacf-45b1-4b3e-93e2-7ad9a9626d74",
   "metadata": {},
   "source": [
    "## Day 1 Part 1"
   ]
  },
  {
   "cell_type": "code",
   "execution_count": 36,
   "id": "1f6d4337-70f1-4824-ab0b-8fca689efca5",
   "metadata": {},
   "outputs": [],
   "source": [
    "file = open(\"inputs/day1_1.txt\", \"r\").readlines()\n",
    "list1 = [int(x.split(\"   \")[0]) for x in file]\n",
    "list2 = [int(x.split(\"   \")[1]) for x in file]\n",
    "\n",
    "list1.sort()\n",
    "list2.sort()"
   ]
  },
  {
   "cell_type": "code",
   "execution_count": 54,
   "id": "dfd678d9-9962-4249-9d6b-b29aaa139e4f",
   "metadata": {},
   "outputs": [],
   "source": [
    "def distance(a: list, b: list) -> int:\n",
    "    \"\"\"Calculate the distance between two lists of tuples.\"\"\"\n",
    "    distance = [abs(x[0] - x[1]) for x in zip(a, b)]\n",
    "    return sum(distance)\n"
   ]
  },
  {
   "cell_type": "code",
   "execution_count": 55,
   "id": "f1ed3e99-728c-4dd0-abb1-13c37374b44d",
   "metadata": {},
   "outputs": [
    {
     "data": {
      "text/plain": [
       "1651298"
      ]
     },
     "execution_count": 55,
     "metadata": {},
     "output_type": "execute_result"
    }
   ],
   "source": [
    "distance(list1, list2)"
   ]
  },
  {
   "cell_type": "markdown",
   "id": "e4cf8f6f-9d67-4e4f-8cec-07202d16bdee",
   "metadata": {},
   "source": [
    "## Day 1 Part 2"
   ]
  },
  {
   "cell_type": "code",
   "execution_count": 79,
   "id": "af577596-6d8d-423a-90df-ed9863743cb9",
   "metadata": {},
   "outputs": [],
   "source": [
    "def similarity(a: list, b: list) -> int:\n",
    "    result = []\n",
    "    for num1 in a:\n",
    "        mult = 0\n",
    "        for num2 in b:\n",
    "             if num1 == num2:\n",
    "                 mult += 1\n",
    "        result.append(num1 * mult)\n",
    "    return sum(result)"
   ]
  },
  {
   "cell_type": "code",
   "execution_count": 81,
   "id": "d7f8b311-3472-4b89-8728-32321e428956",
   "metadata": {
    "scrolled": true
   },
   "outputs": [
    {
     "data": {
      "text/plain": [
       "21306195"
      ]
     },
     "execution_count": 81,
     "metadata": {},
     "output_type": "execute_result"
    }
   ],
   "source": [
    "similarity(list1, list2)"
   ]
  },
  {
   "cell_type": "markdown",
   "id": "3f2c0c7e-acfb-4d4e-8516-c4c4c7bfae07",
   "metadata": {},
   "source": [
    "## Day 2 Part 1"
   ]
  },
  {
   "cell_type": "code",
   "execution_count": 93,
   "id": "cd5b955c-88d8-4125-97ef-b69dc2ba2cb3",
   "metadata": {},
   "outputs": [],
   "source": [
    "def rule1(nums: list) -> bool:\n",
    "    \"\"\"All subsequent numbers are increasing or decreasing.\"\"\"\n",
    "    res1 = all(i < j for i, j in zip(nums, nums[1:]))\n",
    "    res2 = all(i > j for i, j in zip(nums, nums[1:]))\n",
    "    return res1 or res2"
   ]
  },
  {
   "cell_type": "code",
   "execution_count": 188,
   "id": "8cb1dc54-fb24-4140-9c04-5279c85bfc0d",
   "metadata": {},
   "outputs": [
    {
     "name": "stdout",
     "output_type": "stream",
     "text": [
      "True\n",
      "True\n",
      "True\n",
      "False\n",
      "False\n",
      "True\n"
     ]
    }
   ],
   "source": [
    "test1 = [7, 6, 4, 2, 1]\n",
    "test2 = [1, 2, 7, 8, 9]\n",
    "test3 = [9, 7, 6, 2, 1]\n",
    "test4 = [1, 3, 2, 4, 5]\n",
    "test5 = [8, 6, 4, 4, 1]\n",
    "test6 = [1, 3, 6, 7, 9]\n",
    "\n",
    "print(rule1(test1))\n",
    "print(rule1(test2))\n",
    "print(rule1(test3))\n",
    "print(rule1(test4))\n",
    "print(rule1(test5))\n",
    "print(rule1(test6))"
   ]
  },
  {
   "cell_type": "code",
   "execution_count": 110,
   "id": "82b30125-db32-4694-b49d-f99bbde6751d",
   "metadata": {},
   "outputs": [],
   "source": [
    "def rule2(nums: list) -> bool:\n",
    "    \"\"\"Any two adjacent levels differ by at leas one and at most three\"\"\"\n",
    "    res1 = all(abs(i-j) >= 1 for i, j in zip(nums, nums[1:]))\n",
    "    res2 = all(abs(i-j) <= 3 for i, j in zip(nums, nums[1:]))\n",
    "    return res1 and res2"
   ]
  },
  {
   "cell_type": "code",
   "execution_count": 189,
   "id": "dbac8329-84f5-45af-ab88-e7696455d20f",
   "metadata": {},
   "outputs": [
    {
     "name": "stdout",
     "output_type": "stream",
     "text": [
      "True\n",
      "False\n",
      "False\n",
      "True\n",
      "False\n",
      "True\n"
     ]
    }
   ],
   "source": [
    "print(rule2(test1))\n",
    "print(rule2(test2))\n",
    "print(rule2(test3))\n",
    "print(rule2(test4))\n",
    "print(rule2(test5))\n",
    "print(rule2(test6))"
   ]
  },
  {
   "cell_type": "code",
   "execution_count": 118,
   "id": "56bfb70d-a898-4293-bd23-5b9809dda23a",
   "metadata": {},
   "outputs": [],
   "source": [
    "def check_report(nums: list):\n",
    "    return (rule1(nums) and rule2(nums))"
   ]
  },
  {
   "cell_type": "code",
   "execution_count": 190,
   "id": "55deaaff-a155-43f0-a52e-528d0a716d5d",
   "metadata": {},
   "outputs": [
    {
     "name": "stdout",
     "output_type": "stream",
     "text": [
      "True\n",
      "False\n",
      "False\n",
      "False\n",
      "False\n",
      "True\n"
     ]
    }
   ],
   "source": [
    "print(check_report(test1))\n",
    "print(check_report(test2))\n",
    "print(check_report(test3))\n",
    "print(check_report(test4))\n",
    "print(check_report(test5))\n",
    "print(check_report(test6))"
   ]
  },
  {
   "cell_type": "code",
   "execution_count": 133,
   "id": "b1b16c2c-96aa-4fbf-8034-ffef00fbd147",
   "metadata": {},
   "outputs": [
    {
     "data": {
      "text/plain": [
       "269"
      ]
     },
     "execution_count": 133,
     "metadata": {},
     "output_type": "execute_result"
    }
   ],
   "source": [
    "result = []\n",
    "for line in open(\"inputs/day2_1.txt\", \"r\").readlines():\n",
    "    report = [int(i) for i in line.split(\" \")]\n",
    "    result.append(check_report(report))\n",
    "\n",
    "sum(result)"
   ]
  },
  {
   "cell_type": "markdown",
   "id": "69a14e8e-c92e-4bc8-ad6b-4c1e29bd25cb",
   "metadata": {},
   "source": [
    "## Day 2 Part 2"
   ]
  },
  {
   "cell_type": "code",
   "execution_count": 147,
   "id": "9182f3ea-13d2-4590-bdbb-ce0f8c95bf78",
   "metadata": {},
   "outputs": [],
   "source": [
    "def check_sublists(nums, i):\n",
    "    nums.pop(i)\n",
    "    return (rule1(nums) and rule2(nums))"
   ]
  },
  {
   "cell_type": "code",
   "execution_count": 200,
   "id": "4b4abbbd-24b6-4931-aa3b-7b600a09d216",
   "metadata": {},
   "outputs": [],
   "source": [
    "def check_report_with_problem_dampener(nums):\n",
    "    if (rule1(nums) and rule2(nums)): return True\n",
    "    else: return any(check_sublists(nums.copy(), i) for i in range(len(nums)))\n"
   ]
  },
  {
   "cell_type": "code",
   "execution_count": 201,
   "id": "01d812aa-7dc4-45e5-b0d8-7934ff486385",
   "metadata": {},
   "outputs": [
    {
     "name": "stdout",
     "output_type": "stream",
     "text": [
      "True\n",
      "False\n",
      "False\n",
      "True\n",
      "True\n",
      "True\n"
     ]
    }
   ],
   "source": [
    "print(check_report_with_problem_dampener(test1))\n",
    "print(check_report_with_problem_dampener(test2))\n",
    "print(check_report_with_problem_dampener(test3))\n",
    "print(check_report_with_problem_dampener(test4))\n",
    "print(check_report_with_problem_dampener(test5))\n",
    "print(check_report_with_problem_dampener(test6))"
   ]
  },
  {
   "cell_type": "code",
   "execution_count": 202,
   "id": "81e9dc76-2a8c-47e1-888e-a88ac8435f45",
   "metadata": {},
   "outputs": [
    {
     "data": {
      "text/plain": [
       "337"
      ]
     },
     "execution_count": 202,
     "metadata": {},
     "output_type": "execute_result"
    }
   ],
   "source": [
    "result = []\n",
    "for line in open(\"inputs/day2_1.txt\", \"r\").readlines():\n",
    "    report = [int(i) for i in line.split(\" \")]\n",
    "    result.append(check_report_with_problem_dampener(report))\n",
    "\n",
    "sum(result)"
   ]
  },
  {
   "cell_type": "markdown",
   "id": "052b1153-045b-48be-a08e-1c760fc451b6",
   "metadata": {},
   "source": [
    "## Day 3 Part 1"
   ]
  },
  {
   "cell_type": "code",
   "execution_count": 1,
   "id": "1e5640a4-3a55-40b6-8a29-6ca16f16a762",
   "metadata": {},
   "outputs": [
    {
     "name": "stdout",
     "output_type": "stream",
     "text": [
      "['mul(2,4)', 'mul(5,5)', 'mul(11,8)', 'mul(8,5)']\n"
     ]
    }
   ],
   "source": [
    "import re\n",
    "\n",
    "test1 = \"xmul(2,4)%&mul[3,7]!@^do_not_mul(5,5)+mul(32,64]then(mul(11,8)mul(8,5))\"\n",
    "pattern = r\"mul\\(\\d+,\\d+\\)\"\n",
    "matches = re.findall(pattern, test1)\n",
    "print(matches)"
   ]
  },
  {
   "cell_type": "code",
   "execution_count": 8,
   "id": "5df0dae6-e00c-4b7a-bda6-564a49e06a5e",
   "metadata": {},
   "outputs": [],
   "source": [
    "def extract_mul(s: str, pattern = r\"mul\\((\\d+),(\\d+)\\)\"):\n",
    "    matches = re.findall(pattern, s)\n",
    "    matches = [(int(x), int(y)) for x, y in matches]\n",
    "    result = []\n",
    "    for t in matches:\n",
    "        result.append(t[0] * t[1])\n",
    "\n",
    "    return result"
   ]
  },
  {
   "cell_type": "code",
   "execution_count": 3,
   "id": "d3da65c3-083c-4766-95e5-4de1149386d7",
   "metadata": {},
   "outputs": [
    {
     "data": {
      "text/plain": [
       "161"
      ]
     },
     "execution_count": 3,
     "metadata": {},
     "output_type": "execute_result"
    }
   ],
   "source": [
    "# Test str\n",
    "sum(extract_mul(test1))"
   ]
  },
  {
   "cell_type": "code",
   "execution_count": 4,
   "id": "63342c6a-e1e8-4d77-9daf-1137f3291c30",
   "metadata": {
    "scrolled": true
   },
   "outputs": [
    {
     "data": {
      "text/plain": [
       "173517243"
      ]
     },
     "execution_count": 4,
     "metadata": {},
     "output_type": "execute_result"
    }
   ],
   "source": [
    "result = []\n",
    "for line in open(\"inputs/day3_1.txt\", \"r\").readlines():\n",
    "    result.append(sum(extract_mul(line)))\n",
    "\n",
    "sum(result)"
   ]
  },
  {
   "cell_type": "markdown",
   "id": "6d9e771b-6471-4c2e-a233-def3b8d5d7e4",
   "metadata": {},
   "source": [
    "## Day 3 Part 2"
   ]
  },
  {
   "cell_type": "markdown",
   "id": "8d91cc8c-2b85-41d8-9419-55768fdad69e",
   "metadata": {},
   "source": [
    "### Idea\n",
    "\n",
    "1. Split on `don't`\n",
    "2. First entry is always to be extracted using `extract_mul`\n",
    "3. If split on `do` of remaining string returns a list of length 1 means dont was preceeding thus dont calculate\n",
    "4. Else split on do and calculate for all remaining strings"
   ]
  },
  {
   "cell_type": "code",
   "execution_count": 224,
   "id": "dd3604b6-59fe-4528-857c-89923cdb3868",
   "metadata": {},
   "outputs": [
    {
     "data": {
      "text/plain": [
       "['xmul(2,4)&mul[3,7]!^', '_mul(5,5)+mul(32,64](mul(11,8)undo()?mul(8,5))']"
      ]
     },
     "execution_count": 224,
     "metadata": {},
     "output_type": "execute_result"
    }
   ],
   "source": [
    "test2 = \"xmul(2,4)&mul[3,7]!^don't()_mul(5,5)+mul(32,64](mul(11,8)undo()?mul(8,5))\"\n",
    "test2.split(\"don't()\")"
   ]
  },
  {
   "cell_type": "code",
   "execution_count": 301,
   "id": "78d85a84-3177-47fb-a7d9-3e61cf8dd004",
   "metadata": {},
   "outputs": [
    {
     "name": "stdout",
     "output_type": "stream",
     "text": [
      "text: xmul(2,4)&mul[3,7]!^don't()_mul(5,5)+mul(32,64](mul(11,8)undo()?mul(8,5))\n",
      "first: xmul(2,4)&mul[3,7]!^\n",
      "donts: ['_mul(5,5)+mul(32,64](mul(11,8)undo()?mul(8,5))']\n",
      "rest: [['?mul(8,5))']]\n"
     ]
    }
   ],
   "source": [
    "first = test2.split(\"don't()\")[0]\n",
    "donts = test2.split(\"don't()\")[1:]\n",
    "rest = [s.split(\"do()\")[1:] for s in donts]\n",
    "\n",
    "print(\"text:\", test2)\n",
    "print(\"first:\", first)\n",
    "print(\"donts:\", donts)\n",
    "print(\"rest:\", rest)\n"
   ]
  },
  {
   "cell_type": "code",
   "execution_count": 334,
   "id": "18b8c28b-2bf3-404d-aecf-f9cbaa8c0a6f",
   "metadata": {},
   "outputs": [],
   "source": [
    "def solve(text:str):\n",
    "    first = text.split(\"don't()\")[0]\n",
    "    donts = text.split(\"don't()\")[1:]\n",
    "    rest = [s.split(\"do()\")[1:] for s in donts]\n",
    "    \n",
    "    print(\"text:\", text)\n",
    "    print(\"first:\", first)\n",
    "    print(\"donts:\", donts)\n",
    "    print(\"rest:\", rest)\n",
    "    print(\"all dos:\", [first] + rest)\n",
    "    rest_flat = [x for xs in rest for x in xs]\n",
    "    return \"\".join(([first] + rest_flat))"
   ]
  },
  {
   "cell_type": "code",
   "execution_count": 338,
   "id": "a73b3c5d-b951-4e39-b833-8721e2fad2c0",
   "metadata": {},
   "outputs": [
    {
     "name": "stdout",
     "output_type": "stream",
     "text": [
      "text: mul(3,5)don't()mul(7,3)do[!!!]mul(8,4)\n",
      "first: mul(3,5)\n",
      "donts: ['mul(7,3)do[!!!]mul(8,4)']\n",
      "rest: [[]]\n",
      "all dos: ['mul(3,5)', []]\n"
     ]
    },
    {
     "data": {
      "text/plain": [
       "'mul(3,5)'"
      ]
     },
     "execution_count": 338,
     "metadata": {},
     "output_type": "execute_result"
    }
   ],
   "source": [
    "solve(\"mul(3,5)don't()mul(7,3)do[!!!]mul(8,4)\")"
   ]
  },
  {
   "cell_type": "code",
   "execution_count": 335,
   "id": "dd7d17a5-1d64-48b7-a605-b297333705f5",
   "metadata": {},
   "outputs": [],
   "source": [
    "# flat_list = [\n",
    "#     x\n",
    "#     for xs in xss\n",
    "#     for x in xs\n",
    "# ]"
   ]
  },
  {
   "cell_type": "code",
   "execution_count": 339,
   "id": "5e71cd06-1c8f-406d-958b-107b24a80599",
   "metadata": {},
   "outputs": [
    {
     "name": "stdout",
     "output_type": "stream",
     "text": [
      "text: xmul(2,4)&mul[3,7]!^don't()_mul(5,5)+mul(32,64](mul(11,8)undo()?mul(8,5))\n",
      "first: xmul(2,4)&mul[3,7]!^\n",
      "donts: ['_mul(5,5)+mul(32,64](mul(11,8)undo()?mul(8,5))']\n",
      "rest: [['?mul(8,5))']]\n",
      "all dos: ['xmul(2,4)&mul[3,7]!^', ['?mul(8,5))']]\n"
     ]
    },
    {
     "data": {
      "text/plain": [
       "48"
      ]
     },
     "execution_count": 339,
     "metadata": {},
     "output_type": "execute_result"
    }
   ],
   "source": [
    "sum(extract_mul(muls_do_and_donts(test2)))"
   ]
  },
  {
   "cell_type": "code",
   "execution_count": 340,
   "id": "8f3518f5-a271-4d04-bc7c-77429be7e6ad",
   "metadata": {},
   "outputs": [],
   "source": [
    "def solve(text: str):\n",
    "    result = []\n",
    "\n",
    "    donts = text.split(\"don't()\")\n",
    "    print(\"DONTs:\", donts[1:])\n",
    "    print(len(donts))\n",
    "    result.append(donts[0])\n",
    "    \n",
    "    for s in donts:\n",
    "        dos = s.split(\"do()\")\n",
    "        print(\"DOs:\", dos)\n",
    "        print(len(dos))\n",
    "        if len(dos) == 1:\n",
    "            result.append(dos[0])\n",
    "            # result.append(0)\n",
    "        else:\n",
    "            for st in s.split(\"do()\")[1:]:\n",
    "                result.append(st)\n",
    "\n",
    "    return \"\".join(result)"
   ]
  },
  {
   "cell_type": "code",
   "execution_count": 341,
   "id": "6118dc7b-bff9-4869-9493-af31ee41e00a",
   "metadata": {},
   "outputs": [
    {
     "name": "stdout",
     "output_type": "stream",
     "text": [
      "DONTs: ['_mul(5,5)+mul(32,64](mul(11,8)undo()?mul(8,5))']\n",
      "2\n",
      "DOs: ['xmul(2,4)&mul[3,7]!^']\n",
      "1\n",
      "DOs: ['_mul(5,5)+mul(32,64](mul(11,8)un', '?mul(8,5))']\n",
      "2\n"
     ]
    },
    {
     "data": {
      "text/plain": [
       "'xmul(2,4)&mul[3,7]!^xmul(2,4)&mul[3,7]!^?mul(8,5))'"
      ]
     },
     "execution_count": 341,
     "metadata": {},
     "output_type": "execute_result"
    }
   ],
   "source": [
    "solve(test2)"
   ]
  },
  {
   "cell_type": "code",
   "execution_count": 274,
   "id": "6e6a378c-90b5-4e25-bdb9-803cc917d232",
   "metadata": {},
   "outputs": [],
   "source": [
    "test3 = \"why()$mul(735,469)^?!what()don't()~~('mul(982,758)what()^-^who()mul(294,364)&#/ )&%)[~mul(285,81)what()[{where()+ mul(129,761)^]why()>$^<>who()mul(53,344)select()%mul(567,352),mul(915,20)/#(>+^how()'mul(141,658){&~!how()from()?~?who()mul(830,116)#%;mul(139,634)?,#+who()@mul(169,719)[)?'-who();mul(18,751)},when(){;/mul(691,391)mul(856,314)^mul(558,88)]('/>how()@where()(,mul(274,100)%who()#~*mul(220,748)@how(){$how()/*%$when()mul(718,754)[!when(617,291)!{(what()+*do()[;<+ /from()[mul(840,803)}?mul(429,848)?select()how()^why()],&#select()mul(519,894){ !>:^@+mul(522,225)@!^^/'[>select(118,66)>mul(847,195)when(585,749)]mul(641,667):>mul(317,349) +:/^*what()mul(352,440)select()mul(349,981))@mul(450,917)why()how()mul(471,401)?where():}select():mul(632,956))mul(727,370)!}$~*%+$don't()why()select()^]who():mul(276,773)*^^mul(757,668):}mul(232,346)%[*@$ where()mul(898,992)who()why()~+['mul(43,434),where()who()>what()mul(908,953)select();do()}!select()when()!mul(676,368)how()from(966,785)@:$+)how()mul(414,120)mul(108,395) +~{#!@select(),mul(483,964)&do()?>mul(963,893)$,,/%'mul(318,508)?,{mul(390,813)select()>(select()mul(792,357)!{where();mul(717,18)why()$#]why()$^?mul(948,239)how()&>$from()]:>?select()mul(453,180)&&]&,[how()mul(674,281);*how()mul(548,919)how()]{{who()~+where()where()&mul(962,14)/why(),%>when()mul(31,451)/)&:,>}mul(225,266)-*)where()who()]#mul(224,69)#&-+~mul(309,393)@#;%!(][select()mul(389,558)+*how()*^+when()]when()mul(995,181);(mul(5,74)&(#^from()$~&don't()}? ,($ when()mul(216,767)>()!<mul(608,375),*mul(504,987)(/mul(398,418)][mul(39,637)mul(708,979)-]>,/how():@mul(425,905):]>>from()mul(93,831)}select()(mul(70,72)mul(137,510)[]{where()mul(477,400)&?/who()who(335,756){/mul(364,311),$select()what()mul(710,251){mul(351,763)+-}mul(517,661)mul!}?how()where()mul(948,407)-{<]*^from()who()from()mul(979,180)/,:#mul(602,496)%'what(),#}what()~how()mul(343,710))'when()from()#mul(314,877)(+,[?mul(480,685),;do()%<from()}where()]%{#:mul(256,15)]^]mul[$%;where()where()mul(134,380);^where();*mul(505,185)how()what()mul(684,993)%/from(){select()why()mul(265,113)who()@,mul(739,805)what()<}[$$:,mul(570,375))[mul(677,326)-{why()?<how()% mul(186,317)>*<^)from()what()#@what()mul(502,65)where()why()(!*where()from(){/mul(847,541)mul(116,490)]';how(612,404))when()who()&; don't()mul(446,220)(%'?;{^?mul(784,876);)]mul(959,402)%]];mul(362,432)mul(330,805)where()mul(142,473)~don't()-who()mul(965,688)when()[]):-}from()%mul(949,478)why()>~+,!&~,select()mul(633,237!-who()>where()]mul(809,464){@'/when()when()mul(720,462)&select()select() )@}'~how()mul(518,133)mul(512,118)/}what()*][++mul(56,978when(),where()&don't()who()}where()mul(329,879))&$,:when()#when()@what()mul)~who()(;mul(141,130)'?^}#+#from()'-mul(237,78)&what();];%where(614,809){:mul(391,45)mul(787,970)from()-?&~when()mul(59,790) what()where()~?what()mul(399,503)^from()where()when()mul(190,97);why()who() ,select(){mul(428,654)mul(350,302)?{mul(592,241)when()how()mul(705,191)who() !who()mul(50,6)~'from()% &]mul(902,106),select();/ why()from()>mul(800,867)select(659,586)~ )when()}~&'mul(709,298)-:'do()[who()what() mul(31,997)$%(where(309,559)%: mul(177,184)@mul(58,102)\""
   ]
  },
  {
   "cell_type": "code",
   "execution_count": 328,
   "id": "72acd228-7354-4d04-9263-8c19ac742bf0",
   "metadata": {
    "scrolled": true
   },
   "outputs": [
    {
     "name": "stdout",
     "output_type": "stream",
     "text": [
      "text: why()$mul(735,469)^?!what()don't()~~('mul(982,758)what()^-^who()mul(294,364)&#/ )&%)[~mul(285,81)what()[{where()+ mul(129,761)^]why()>$^<>who()mul(53,344)select()%mul(567,352),mul(915,20)/#(>+^how()'mul(141,658){&~!how()from()?~?who()mul(830,116)#%;mul(139,634)?,#+who()@mul(169,719)[)?'-who();mul(18,751)},when(){;/mul(691,391)mul(856,314)^mul(558,88)]('/>how()@where()(,mul(274,100)%who()#~*mul(220,748)@how(){$how()/*%$when()mul(718,754)[!when(617,291)!{(what()+*do()[;<+ /from()[mul(840,803)}?mul(429,848)?select()how()^why()],&#select()mul(519,894){ !>:^@+mul(522,225)@!^^/'[>select(118,66)>mul(847,195)when(585,749)]mul(641,667):>mul(317,349) +:/^*what()mul(352,440)select()mul(349,981))@mul(450,917)why()how()mul(471,401)?where():}select():mul(632,956))mul(727,370)!}$~*%+$don't()why()select()^]who():mul(276,773)*^^mul(757,668):}mul(232,346)%[*@$ where()mul(898,992)who()why()~+['mul(43,434),where()who()>what()mul(908,953)select();do()}!select()when()!mul(676,368)how()from(966,785)@:$+)how()mul(414,120)mul(108,395) +~{#!@select(),mul(483,964)&do()?>mul(963,893)$,,/%'mul(318,508)?,{mul(390,813)select()>(select()mul(792,357)!{where();mul(717,18)why()$#]why()$^?mul(948,239)how()&>$from()]:>?select()mul(453,180)&&]&,[how()mul(674,281);*how()mul(548,919)how()]{{who()~+where()where()&mul(962,14)/why(),%>when()mul(31,451)/)&:,>}mul(225,266)-*)where()who()]#mul(224,69)#&-+~mul(309,393)@#;%!(][select()mul(389,558)+*how()*^+when()]when()mul(995,181);(mul(5,74)&(#^from()$~&don't()}? ,($ when()mul(216,767)>()!<mul(608,375),*mul(504,987)(/mul(398,418)][mul(39,637)mul(708,979)-]>,/how():@mul(425,905):]>>from()mul(93,831)}select()(mul(70,72)mul(137,510)[]{where()mul(477,400)&?/who()who(335,756){/mul(364,311),$select()what()mul(710,251){mul(351,763)+-}mul(517,661)mul!}?how()where()mul(948,407)-{<]*^from()who()from()mul(979,180)/,:#mul(602,496)%'what(),#}what()~how()mul(343,710))'when()from()#mul(314,877)(+,[?mul(480,685),;do()%<from()}where()]%{#:mul(256,15)]^]mul[$%;where()where()mul(134,380);^where();*mul(505,185)how()what()mul(684,993)%/from(){select()why()mul(265,113)who()@,mul(739,805)what()<}[$$:,mul(570,375))[mul(677,326)-{why()?<how()% mul(186,317)>*<^)from()what()#@what()mul(502,65)where()why()(!*where()from(){/mul(847,541)mul(116,490)]';how(612,404))when()who()&; don't()mul(446,220)(%'?;{^?mul(784,876);)]mul(959,402)%]];mul(362,432)mul(330,805)where()mul(142,473)~don't()-who()mul(965,688)when()[]):-}from()%mul(949,478)why()>~+,!&~,select()mul(633,237!-who()>where()]mul(809,464){@'/when()when()mul(720,462)&select()select() )@}'~how()mul(518,133)mul(512,118)/}what()*][++mul(56,978when(),where()&don't()who()}where()mul(329,879))&$,:when()#when()@what()mul)~who()(;mul(141,130)'?^}#+#from()'-mul(237,78)&what();];%where(614,809){:mul(391,45)mul(787,970)from()-?&~when()mul(59,790) what()where()~?what()mul(399,503)^from()where()when()mul(190,97);why()who() ,select(){mul(428,654)mul(350,302)?{mul(592,241)when()how()mul(705,191)who() !who()mul(50,6)~'from()% &]mul(902,106),select();/ why()from()>mul(800,867)select(659,586)~ )when()}~&'mul(709,298)-:'do()[who()what() mul(31,997)$%(where(309,559)%: mul(177,184)@mul(58,102)\n",
      "'^why()>-why()mul(489,67)who(682,115)where()how()>why()~;'^mul(179,994)who()#[+when()}mul(343,121)]^mul(622how()select()<{how()mul(315,335)-:%mul(611,869)who()when()$where()who()mul(242who()from()%&!['do()@:^-})}';*mul(266,851);^[{!&why()how()from()mul(980,269)^{where()how()/where():;+mul(971,795)#>][+^where()mul(279,554)/why()mul(736,24)mul(63,622when()who()how() -;mul(500,888) ]where()where()when();mul(255,25)<]!-,#!+how()@do()mul(670,579)?(//]from(41,426)$do()mul(427,50)/%mul(359,247)'what()~{~-?[#mul(862,40)]{from()when()mul(426,212)>who()mul(653,462)why()mul(15,779)<mul(74,351)?what()#when()$?,select()mul(597,374)do()#<select(841,354)@why()who()how()][!mul(35,834;*]}why()(mul(83,744)!<?mul(423,255));;who()select()where()%&<;mul(357,9)%how();&?,(mul^how()}}where()do()+ :)mul(381,962):^<#/'why()>)]mul(258,38)how()**$?(}% ;mul(624,853)[;&select()where()*-)<)mul(111,225)mul(440,503)/what()###mul(840,369)who()mul(529,595)>(-/who()mul(168,832)mul(658,544)%:~~)what()why()%+]mul(358,878)who()'$+@-)*mul(30,603)&-do()mul(627?mul(834,46)+when(751,926)-mul(132,173)who()do()-%where()mul(487,54)!$what(),{mul(546,92):$where())&/mul(978,930)-/mul)#mul(693,136)!$select()mul(490,906)%!}({;where()mul(853,453)*]!<%what(85,66)+ mul(720,355)]+mul(65,942)? $mul(736,168)<when(639,880)mul(106,601)@why()*?why(){[mul(506,458)']?'mul(923how()/%/~}do()how()<@,where()mul(445,231)&*(when(705,194)! -!mul(702,772)~;@from(),+$?/mul(721,487)~)[how()}mul(78,576)}mul(230,960)>#who()from()< %mul(279,223),,how()select()'mul(949,79)@)-who()when()+;/why(),don't()~(@,^~<?select()mul(876,168)from(),mul(953,149]%'{ ?why()&mul(936,991)? select()(-%#why()mul(580,536)*@&where()#;who()~why()mul(561,114),when(132,955)>mul(55,965)what()select()'where()$)?mul(615,265)mul(801,65/why())mul(55,877)[why()+>:~&%~mul(418,463)from()+'who()(how()who()when()mul(176,831)!#'mul(350,399)>'@{ '!mul(847,397):{who()'#$where() @mul(148,609))&,+,<<mul(15,446){when()don't() :mul(92,515)from()how()where(){&)$why()how()(mul(13,795)&;)&'(mul(786,13),/&~/from()[[([do()!>->$@mul(475,800)who()what()do())}from()&why(821,875))mul(675when()select()), %mul(786,308)-[,/,+mul(305,3)how()what(107,974);!}+how()mul(535,976)from()[)mul(820,558):(why(){^mul(715,523);mul(288,378)'why()$why(),@mul(184,850)when()'';^where()mul(957,549)do():~{:{)select()mul(347,642)from():(mul(834,376)>mul(803,111)(,,'select()select()who()[ !mul(143,742)+:# {mul(891,385)where()}<%^>mul(995,109)'?from()$):who()mul(414,498)&/%mul(809,958),why()[!>,mul(591,908!(how()}mul(600,673)'%* *mul(48:$);(/from(371,7)(>mul(261,884)?&don't())mul(246,229) >;*'&!don't(),+mul(131,199),$don't()-(what()mul(13,595)<don't()]why():^why()<%*mul(345,947)[what()[how()-}/]^?mul(202,126)}who()@'mul(637,167)@mul(216<who()what()(<&mul(630,666)$when()why()?< mul(595,125)#^(}['?mul(493,439)>'don't(),who()how() %mul(839,198))do()select()*from()mul(903,555)what()mul(74,674)%;@<from()%*+<>mul(190,543#)])[^*! ,>mul(428,756)/:>+%?mul(585,685)?@~/*why()){[mul(87,499)],@~!}mul(585,674) [,],]}?[:mul(511,978)!?)don't()&~*mul(735,638)select()[{from()!{>mul(897,633)select() #*mul(680,8)mul(671*how()^mul(580,632)(} how(9,101)from()where()'<&mul(936,112)select()what()how()#mul(720,608)'&^/ &when()@mul(697,116),#from(),what()!where();(:mul(833,800#mul(842,722)why()$from()[(^from()/mul(591,920)<how(88,219)>how()(don't()}mul(65,254)#why()@mul(696,883)^?what()mul(917,413)from();>{~mul(524,943)mul(465,955)how()select() &how()how()mul(528,18)how()]]do(){who();~>who()&mul(837,821)\n",
      "+when()mul(957,88){mul(446,234),(%[mul(225,735)mul(616,489)<[]~+@why(274,559)-why(45,518)mul(841,337)@mul(826,883)-(where()don't();@'+~/from()mul(829,811)(what()how()how()#mul(435,969)mul(743,179)from()/'[/,];mul(797,84)[from()>:~&$} mul(934,535)@?<?'select(),,<)mul(281,662)when()why()$>})%mul(630,155)]mul(81,271)why();@;%]who()mul(616,154)^do()^)-*;/mul(562,475)select()(select())$mul(119,594)what()<when()mul(738,534)where())(?($-)>?mul(103,712)why()(what()mul(358,496),why()~+<!when(324,160)[~%mul(48,331)?* select()/$;[?where()mul(56,877)$where()why()~'#mul(66,22)}where(),]mul(543,366)mul(510$@who(626,85)mul(481,102)%do()why()what()mul(92,160)mul(716,567);[>select()what()~select()from()mul(316,752):+^mul(851,254)select()from(){</how() /+don't()from()}?>when(216,975):*mul(776,658)from()from()?!mul(724,606)from()mul(878what()^%'why()>]mul(920,733)mul(500,262)when()why()do()]!who(333,560)]why()^ ,}mul(594,767)~':}!mul(69,623)})where()where()@-^mul(510,559)from()where()mul(990,412)%)[ how()mul(627,280)@mul(314,481)- from()how()who()}'<^*mul(515,459)$how()do()]mul(307,482)@~( $(@-%:mul(460,946)<how()what()what()when(609,900)*,<mul(500,943)+how(611,604)mul(851,219) [why()where()]>%mul(942,646) {>mul(160,832)where()when()what()~{where()&@mul(24,840)^#[mul(344,387)#how();mul(525,285)mul(221,638)-!/?#-$^don't()mul(91,395)select(43,376)what()]~mul(677,682)from()$ mul(358,545)$+%mul(697,89):how()who()^mul(599,952)?where()#mul(752,46)where()* ?},#'mul(803,569)select()+()-when()*mul(5,223)'<])#~*^[mul(360,79)<who()!*&where(75,589)^-!;mul(657,581)}-$mul(677,274):*mul(416,377)when(),$><$+mul(784,713)-%when();from()why()<]mul(288,526)';^~do()[;where()}%?<^<how()mul(674,809)/-(mul(93,723)$why()+;how()~)mul(588,165)mul(597,872)[%+)+from()when()why()<<mul(484,118):where()@:<,how()mul(824why()^?*^-}mul(805,860)#mul(54,678)~where()* >+<<mul(536,459)select(),select()^*{%mul(364,110)+-*$who()mul(996,17)*<how()^^',who()%mul(595,489)-#)]];mul(672,920)when()<*>mul(25,575)#^;mul(169,580)when() ^where();]mul(575,888)'who() &::,mul(172,538)@when()*!mul(718,235)%+/mul(281,117)who(),don't();what()how()select(126,34);why(460,565)mul(153,278)~when()*]mul(284,592)what()#@mul(416,344)+how()from(472,343)+]+*? mul(218,315)who()#:$@{}mul(415,704)mul(367,153)*where()!'do()what()[mul(298,416)<'*$:} !mul(8,562 ~#/[{~-$what()&mul(312,424) '??mul-$ -mul(49,590)>[+{how(472,207)]^mul(482,423)&why()(#^' mul(178,565)~^&>from()!#?don't()why()who(596,596))who()from()>how():{@mul(385,718) ~?@//*<mul(875,98)select()($?mul(427,44)],select()how()mul(942,194)how()~select()]/mul(558,119)select()&how()where():mul(858,264)&mul(400,374({}&&>*mul(783,105)~why(22,278):#how()do(),from()!:mul(40,924){[when(),/*mul(694~+mul(311,607)who()[/'mul(744,908)%>: ]~,:mul(310,993)from()%:-(+where()when()[mul(455,786)from()~]?from()^where()mul(460,406)how()when(831,855)'where()>[,:mul(250,253)~:select()){#)[[[mul(825!<{from()mul(205,719))why()@?%mul(729,531):where(); $~ mul(547,617)when()/mul(791,433)from()%select()what()%how()%}}mul(616,548)?%:',when()where()who(),mul(417,691)mul(548,124)<-%mul(459,792)mul(93,742)&from()who()select()mul(38,516)why()$ ; -how();mul(682,71);*why(603,344)mul(588,565)*#:do()'from()!who()-mul(564,344)mul(58,41)mul(881,91) when();/#!/usr/bin/perl!+'mul(791,572)\n",
      "%mul(264,168)mul(409,229)[#what()mul(393,212)$-from()'*do()mul(274,560)-{+::&>,mul(778,511)when()[;why()'how(701,98)%}mul(630,304){%{>*why(52,488)?}[(mul(149,108&'why(222,790)[mul(8,101)}>;why())what()mul$-%^why()mul(823,831)'*+mul(2,756)>, *don't();/}~&mul(602,479)~%)from()*}-when()%^mul(849,417)$>!-+from() +mul(280,463)'select(),@how(637,7)+&?mulhow(771,951)$mul(373,910)what()when()from()-]:why()mul(835,707):<]&when(915,675)~mul(628,69)&^@&#)mul(419,539):%:mul(534,992)'mul(987,602}why() when()]mul(438,915)~}$why()@!'#>don't()^)}?-select(355,550)},,(mul(649,262)^ *[&}<what()mul(504,106<(where()}!>/%mul(867,47)mul(104,808):@why()'@'($$mul(74,805)what(597,630)}(;]>~mul(217,927)>what()mul(669,965)>from()mul(647,126)->mul(52,497) select()<mul(168,794)!from() ^when()what(89,684)from()mul(516from();where()^%?{mul(154,856)?#!@*mul(197,299)#$where()select()+;when()>mul(22,612from()why()'mul(277,463)!mul(473,104)[!:;mul(655,992)how()>%(what()-mul'why()!&where(11,929)+mul(314,422)$how()what(610,732):&{~}#select()mul(517,349)why()!mul(815,441)#why(349,312)))<who()}%@who()mul(581,636)why()<mulwho()[ $%!)?~-mul(90,929)how()+mul(465,47)^!<>how()['$where()[mul(593,303)]#$^;mul(901,6)<-}:,who()mul(254,964)select()@['mul(297,705) who()#^mul(794,226)when()who()who(562,667)>}[mul(265,242$'from()@}mul(724,493)mul(313,610)*->%,mul(83,839)^)%mul(149,753)&when()select()from() 'mul(3,784)select()select(715,428)mul(502,975)how()who() !when();{[mul(106,800)<<do()<)when()@+select()(mul(330,370)(;how()#from(){from(147,942)$'/mul(465,263)(where()mul(793,96<:where()don't()^select()*mul(445,72)<$ <~#:[;mul(550,104)select()(mul(623,888)do()&)-who():~when()-}mul(876when()?+<what()(mul(89,377)mul(197,130)how()#??{!)(mul(627,592)*mul(417,712-~<mul(755,450)%][mul(94,330)mul(440,265)mul(462,481)+!&&))$<%,mul(667,710)^,mul(676,29)} {@:$where()@/mul(249,944)select()}mul(144,151)how()]#{@who(280,893)>;mul(513,728)select()select()}@;':from():mul(259,697}'$]&':<mul(468,141){:mul(603,934)?$mul(70,510)']?/mul(26,892) when()what()mul(783,778)^how()<]({mul(775,826)when()[^[?'(mul(883,142)where()what()]who() mul(286,488){'~:% ^},mul(207,126)&#select();~from()#mul(88,811)'}mul(828,951)~[<why()+%{select()how()mul(281,855)mul(553,325)where()*'select(343,389)+when()from();mul(133,474what()%&mul(930,882)-@mul(410,901)),$^~,when()!{who()do()who()select()where(811,718):^-from()mul(714,179)^what()who()?-what();:mul(668,570)+how()>+mul(998,295)how()@who();!mul(947,199)?/what()where()where()]mul(415,221)select(487,105)^mul(688,128)#&mul(394,445)mul(384,810) @!why()do();&!where(424,549)why()mul(934,449)%()-^from()?who()<(do()when()'what()#mul(424select(76,581):<+}from()#>+mul(616,317)#$what()@-select(425,315)mul(146,882)mul(509,291/#from()mul(152,967)why()how()mul(348,501)<[<who()mul(736select()+&[(@;?mul(658,85))*:where()$+!when(557,300)how()where()mul(801,846)-@{^+:-)(mul(201,50)how(980,573)~mul(447,803)*}mul(423,648)mul(666,375)how()&when()(;^:<what()mul(102,960)who()<~-+select()mul(503,58)what()where()?mul(280,485!who()where()@^mul(810,988)how()}:,{don't()+what()/!-where()select())*mul(762,285)*{[where()-;/+#mul(268,605) where()+{/?select();mul(596,753),select()why()@what(){what()mul(758,730)%mul(276,709)$:;mul(307,778#^who()select()where()&from();mul(397,362)!when()}}[mul(635,662)why()'<who(403,889)mul(609,78)select())how()where()^?mul(9,351)/who()}*!why()-mul(77,125)$select() what()/mul(614,43)+&][]{<mul(893,290)-?-^mul(590,17)!where():mul(931,59)/+how()from(610,234)why()mul(50,444)'mul)from()^*mul(401,587)%}[?when()~?)~#mul(872,883)+^when()! &),,+do()] >&^who()why():+mul(36/mul(856,681)!mul(46,203)\n",
      "mul(315,935)mul(451,658)when()when(353,392)<<select())$,mul(842,863,who()?}<mul(673,921)!$/mul(185,371){select()from()?from()&mul(412,471)' mul(566,75)%+()don't()~[<what()mul(923,512)>why()]*')mul(21,640)from()mul(755,282)>^why()from()mul(442,981)!when()^why()why()(/mul(876,31),who()/[mul(740,627)]<when()mul(616,896)]~){,,:{mul(475,422),%}&'}mul(153,843)+}?@,]&@*?mul(348,553)*$mul(542,601)$)mul(567,799)?}from()how(585,456)from() 'from()?mul(961,457)@;when()]why()<:?(mul(337,246)%where()+ #+how()mul(602,592),]@,^$mul(271,610)select()+why(34,14),//{^$+mul(183,953)who()when(290,111),]>who()/+[mul:+<?when()mul(346,464)*'@from()-where()][&mul(533,382) mul(253,576)!;)#<@from(260,939),mul(903,385)mul(389,764)^%who()why()where()what()mul(445,854)(who()^)?mul(714,731)!}how(100,829)];?where()?do()//<@mul(180,318)/)what(),;]mul(130,856)mul(796,929)mul(564]{how())[~'#>mul(557,285)!(&how()mul(538,865)select()what()~$from()([+when()/mul(826,278):@select(546,967)!?&select()what()mul(847,194)#<who()select()?why())@mul(997,603)]mul$&do()mul(434,51)}how()]^*$mul(18,446)~mul(540,181)]*]?select()when()<[mul(636,536))mulwhy(496,145)^)+>{mul(468,530)*![%where()^<<from(535,872)~mul(276,519)why(120,307):>what()?&mul(277^ mul(780,751)^what()~!#mul(635,606)?*when(): }who()]-don't()<from()&what()#@$mul(491,700)mul(887,685) +#how()}who()+mul(17,441)who(969,103)who()(why()mul(525,434){@]@~mul(760,445)mul(759,803)how()~ *when()mul(584,425)[;why())when(){(why()/how()mul(386,687);*-}]~who(224,978))mul(564,88)!;<-:),@%mul(309where()/;^-*?select() ]from()mul(504,612)*<,@*select(),'@mul(21,237)- when()<>mul(42,308)+,(how()how()$-!~mul(29,791)%)mul(248,71)#when()-)]mul(670when():from(505,247)who()>select()what()'(mul(327,578)from()from(){who()who()from()^/mulwhen(801,176)what()};}<don't(){what()([){]?%-mul(808,60)mul(207,689)mul?-who()~}~where()when()*,mul(81,901)>! :#-:who():/mul(466,327)#~'!),&>mul(776,335where()]why()&]?]:how()how(),do()mul(442,378)when()/^^mul(407,519)'-mul(157,451)+]from()when()when()/mul(689,597#{mul(387,624)><]&$!from()%[-don't()what()why(801,120)how():%select())(mul(847,645)where();&'}#how(698,791)!don't(){)<^mul(694,504)](/*{$who()+mul(480,559)where()#>'who()[}select()!@mul(225,926)when()?%>+mul(631,126)}#@how()mul(712,802)-select()why()~'mul(748,579)from()<who() )don't()how()from()# mul(48,962) @&;!where()/why()$mul(952,98)why()#*where()where()mul(850,784);[$#),;select()mul(420,384)why(),{<%#[mul(667,514)&*'don't(),<mul(401,476)~[how()<mul(441,886)mul(509,477how()~do()when()$?~mul(297,954]when(){from(423,995)@from()(<mul(167,382)&+how(){who():{mul(881,865)who()what():what();mul(335,170)**((mul(158,919)@+~from()'<^ -<mul(497,843)@mul(407,637);*{-#mul(377,786)select()-/,do()mul(63,526) ~why()select()what()mul(499,65)*@-where()!from()/where()mul(830,277)+mul(975,180)@-mul(366,372)(*:}when(623,620);)mul(109,618)-];from()$~what()}+mul(959,532)from();mul(660,115)- mul(48,647)<who()/what()%#{~why()@mul(78,243)where()$from()*+%/&{!mul(798,985)how()(%why()~ [,$!mul(20,376){when(741,432)^,+'who()'?mul#[}from()where()when()[}why()'-mul(905,28)(mul(713,649)<:<mul(357,904)/*/)(]mul(850,489),% *}mul(509,713)mul(321,759){mul(631,140)why()mul(757,485)>{%mul(649,879){:select()~&!,[ !mul(147,693)<+}mul(87,949)-{where(345,734)/ mul(351,115)></who()]$mul(548,692)how()#>mul(52,566)&mul(427,269)}mul(901,457)when()&mul(600,957)mul(734,851)!why()/[$/how();mul(383,59)'why(802,790)(;%'from()who()mul(904how()<;select()@{,who()>[don't()why()}[&[!mul(859,668)what()^mul(483,700)\n",
      "]where()>>>&^@what()mul(320,309)[#<#:]~/mul(497,511)mul(95,653)how():mul(572,330)&mul(809,308)*(&:mul(29,810)who()how():mul(915,147)when()^#mul(849,988);who()?,(/*mul(129,470)select())$select()-&/why()where():do()mul(590,753),@;'/mul(396,339)>%mul(613,991) '{,(mul(899,674))/$}from(656,762)'select()(';do()+-(@mul(502,495)]{$>@)+do()'why()select(),when()mul(454,97)')'where(326,126) select()mul(334,130who(494,552)%@*$who(979,600)mul(876,925)^&^mul(975,151))who()who()&mul(136,404);%!';#mul(450,492[}+[&[$}%//mul(487,75)%mul(870,786),when()why()+~>mul(316,132)-from()who()when()'@who()mul(169,959)~~when()]how()+from()*^mul?&why()how()mul(641,834)^:!(-#mul(197,843why()?}[-mul(479,27)#,/when()when(284,485)from()(mul{)from()+'$~from()*<mul(133,617)mul(211,614)?&#select()++}@mul(454,721)do()&mul(818,834)when();where()mul(863,7)? ;@<]mul(318,778),@@([(^$mul(572,286),:where(706,609)what()-!^how()~mul(532,946)mul(318,32)%mul(883,395)what() where())#mul#-#when()%mul(295,998)]why()&mul(459,716)~who()?#who()<how()-(mul(723,19), ,mul(25,912)where()what()mul(220,998),<){{'mul(537,203)how()what()$mul(179,953)+ &where(134,23)#?mul(654,670)]mul(120,530)#when()>mul(555,485)mul(37,175what()why()who()mul(849,203)who(607,487)how()select():&&;mul(874,736)when()/from(626,997)mul(482,451))who()[};mul(186,966)select()when()*mul(918,369)~who()](%mul(452,814)/&&^-!<what()what()mul(983,42)?;$[(+*what()don't()who()!)who()>&$<<{mul(161,632)]mul(434,106):){select()mul(137,656)why()*when()^mul(198,859):mul(589,609) @-mul(79,388)/+}~]}from()how(),do()@<#])-mul(673,936)!mul(999,158)%mul(600,817)%~!#<mul(503,532) )$why()&mul(157,960)*:when()(^mul(190,111) #mul(298,41)!)how()why()~;mul(467,828)%#*-#mul(745,381)mul(716,679)mul(901,414)#'->?@<^mul(948,543)$),'mul(108,479)]&mul(359,23)~@{+when()&%^!{mul(186,477)who()from()select()*{where()how()%%/mul(714,701)select()what()why()<mul(449,342)/#(mul(757,350)]/<+mul(765,807)-)])why():from()&{mul(239,945){+])mul(50,44)>from(138,787)<mul(808,115)*,why()why()mul(282,601)from()select()}!' mul(429,560)mul(495,752),who()];->from()'$ mul(589,314)&what()}]**where()don't()@'?<!mul(11,30)#{what():mul(62,714):from()where():@what()how():mul(770,297)$from(35,334)why()^)%where(775,186)mul(470,300)where()when()%select()#^mul(565,583)where()%):mul(188,39)-/mul(502,616)}{when()@/]&/mul(24,160)* ~&&-[,~,mul(132,324)who()[$}what()mul(756,950)/]*/'where()@~->mul(905,694)%~mul(52,222),?]mul(726,995):where()^'[/mul(948,887)how()mul(396,68)what(){;select()$[% (mul(939,722)why()from()$who() &,$]mul(917,716)how()where()']~%'mul(174,257)/how()why()@select()mul(673,441)-<)'?select()do()how():what()]{}?-mul(202,788)[mul(842,734)who(980,842)/?/{+how()select()&how(149,196)mul(533,78),@#select()don't();when()mul(595,87)[(how()-;do()@>what()mul(543,798)/&mul(118,844)who(520,900)>!mul(615,214)'-/select(){where()@do()*#{%/mul(254,489)$@*,who()^mul(209,427)<%how()'^!^{how()mul(112,898)where()-/what()% ^'mul(400,703)mul(347,239)+:who()select()'<,mul(695,520)mul(595,418)why()?!#&^,;,:mul(128,623)$:/@why()$,!$where()mul(489,451):]}mul(426,973)/)don't()-<]what()what()!how()mul(384,927)?select()~:]*])-#mul(210,978)why()-/\n",
      "first: why()$mul(735,469)^?!what()\n",
      "donts: [\"~~('mul(982,758)what()^-^who()mul(294,364)&#/ )&%)[~mul(285,81)what()[{where()+ mul(129,761)^]why()>$^<>who()mul(53,344)select()%mul(567,352),mul(915,20)/#(>+^how()'mul(141,658){&~!how()from()?~?who()mul(830,116)#%;mul(139,634)?,#+who()@mul(169,719)[)?'-who();mul(18,751)},when(){;/mul(691,391)mul(856,314)^mul(558,88)]('/>how()@where()(,mul(274,100)%who()#~*mul(220,748)@how(){$how()/*%$when()mul(718,754)[!when(617,291)!{(what()+*do()[;<+ /from()[mul(840,803)}?mul(429,848)?select()how()^why()],&#select()mul(519,894){ !>:^@+mul(522,225)@!^^/'[>select(118,66)>mul(847,195)when(585,749)]mul(641,667):>mul(317,349) +:/^*what()mul(352,440)select()mul(349,981))@mul(450,917)why()how()mul(471,401)?where():}select():mul(632,956))mul(727,370)!}$~*%+$\", \"why()select()^]who():mul(276,773)*^^mul(757,668):}mul(232,346)%[*@$ where()mul(898,992)who()why()~+['mul(43,434),where()who()>what()mul(908,953)select();do()}!select()when()!mul(676,368)how()from(966,785)@:$+)how()mul(414,120)mul(108,395) +~{#!@select(),mul(483,964)&do()?>mul(963,893)$,,/%'mul(318,508)?,{mul(390,813)select()>(select()mul(792,357)!{where();mul(717,18)why()$#]why()$^?mul(948,239)how()&>$from()]:>?select()mul(453,180)&&]&,[how()mul(674,281);*how()mul(548,919)how()]{{who()~+where()where()&mul(962,14)/why(),%>when()mul(31,451)/)&:,>}mul(225,266)-*)where()who()]#mul(224,69)#&-+~mul(309,393)@#;%!(][select()mul(389,558)+*how()*^+when()]when()mul(995,181);(mul(5,74)&(#^from()$~&\", \"}? ,($ when()mul(216,767)>()!<mul(608,375),*mul(504,987)(/mul(398,418)][mul(39,637)mul(708,979)-]>,/how():@mul(425,905):]>>from()mul(93,831)}select()(mul(70,72)mul(137,510)[]{where()mul(477,400)&?/who()who(335,756){/mul(364,311),$select()what()mul(710,251){mul(351,763)+-}mul(517,661)mul!}?how()where()mul(948,407)-{<]*^from()who()from()mul(979,180)/,:#mul(602,496)%'what(),#}what()~how()mul(343,710))'when()from()#mul(314,877)(+,[?mul(480,685),;do()%<from()}where()]%{#:mul(256,15)]^]mul[$%;where()where()mul(134,380);^where();*mul(505,185)how()what()mul(684,993)%/from(){select()why()mul(265,113)who()@,mul(739,805)what()<}[$$:,mul(570,375))[mul(677,326)-{why()?<how()% mul(186,317)>*<^)from()what()#@what()mul(502,65)where()why()(!*where()from(){/mul(847,541)mul(116,490)]';how(612,404))when()who()&; \", \"mul(446,220)(%'?;{^?mul(784,876);)]mul(959,402)%]];mul(362,432)mul(330,805)where()mul(142,473)~\", \"-who()mul(965,688)when()[]):-}from()%mul(949,478)why()>~+,!&~,select()mul(633,237!-who()>where()]mul(809,464){@'/when()when()mul(720,462)&select()select() )@}'~how()mul(518,133)mul(512,118)/}what()*][++mul(56,978when(),where()&\", \"who()}where()mul(329,879))&$,:when()#when()@what()mul)~who()(;mul(141,130)'?^}#+#from()'-mul(237,78)&what();];%where(614,809){:mul(391,45)mul(787,970)from()-?&~when()mul(59,790) what()where()~?what()mul(399,503)^from()where()when()mul(190,97);why()who() ,select(){mul(428,654)mul(350,302)?{mul(592,241)when()how()mul(705,191)who() !who()mul(50,6)~'from()% &]mul(902,106),select();/ why()from()>mul(800,867)select(659,586)~ )when()}~&'mul(709,298)-:'do()[who()what() mul(31,997)$%(where(309,559)%: mul(177,184)@mul(58,102)\\n'^why()>-why()mul(489,67)who(682,115)where()how()>why()~;'^mul(179,994)who()#[+when()}mul(343,121)]^mul(622how()select()<{how()mul(315,335)-:%mul(611,869)who()when()$where()who()mul(242who()from()%&!['do()@:^-})}';*mul(266,851);^[{!&why()how()from()mul(980,269)^{where()how()/where():;+mul(971,795)#>][+^where()mul(279,554)/why()mul(736,24)mul(63,622when()who()how() -;mul(500,888) ]where()where()when();mul(255,25)<]!-,#!+how()@do()mul(670,579)?(//]from(41,426)$do()mul(427,50)/%mul(359,247)'what()~{~-?[#mul(862,40)]{from()when()mul(426,212)>who()mul(653,462)why()mul(15,779)<mul(74,351)?what()#when()$?,select()mul(597,374)do()#<select(841,354)@why()who()how()][!mul(35,834;*]}why()(mul(83,744)!<?mul(423,255));;who()select()where()%&<;mul(357,9)%how();&?,(mul^how()}}where()do()+ :)mul(381,962):^<#/'why()>)]mul(258,38)how()**$?(}% ;mul(624,853)[;&select()where()*-)<)mul(111,225)mul(440,503)/what()###mul(840,369)who()mul(529,595)>(-/who()mul(168,832)mul(658,544)%:~~)what()why()%+]mul(358,878)who()'$+@-)*mul(30,603)&-do()mul(627?mul(834,46)+when(751,926)-mul(132,173)who()do()-%where()mul(487,54)!$what(),{mul(546,92):$where())&/mul(978,930)-/mul)#mul(693,136)!$select()mul(490,906)%!}({;where()mul(853,453)*]!<%what(85,66)+ mul(720,355)]+mul(65,942)? $mul(736,168)<when(639,880)mul(106,601)@why()*?why(){[mul(506,458)']?'mul(923how()/%/~}do()how()<@,where()mul(445,231)&*(when(705,194)! -!mul(702,772)~;@from(),+$?/mul(721,487)~)[how()}mul(78,576)}mul(230,960)>#who()from()< %mul(279,223),,how()select()'mul(949,79)@)-who()when()+;/why(),\", \"~(@,^~<?select()mul(876,168)from(),mul(953,149]%'{ ?why()&mul(936,991)? select()(-%#why()mul(580,536)*@&where()#;who()~why()mul(561,114),when(132,955)>mul(55,965)what()select()'where()$)?mul(615,265)mul(801,65/why())mul(55,877)[why()+>:~&%~mul(418,463)from()+'who()(how()who()when()mul(176,831)!#'mul(350,399)>'@{ '!mul(847,397):{who()'#$where() @mul(148,609))&,+,<<mul(15,446){when()\", \" :mul(92,515)from()how()where(){&)$why()how()(mul(13,795)&;)&'(mul(786,13),/&~/from()[[([do()!>->$@mul(475,800)who()what()do())}from()&why(821,875))mul(675when()select()), %mul(786,308)-[,/,+mul(305,3)how()what(107,974);!}+how()mul(535,976)from()[)mul(820,558):(why(){^mul(715,523);mul(288,378)'why()$why(),@mul(184,850)when()'';^where()mul(957,549)do():~{:{)select()mul(347,642)from():(mul(834,376)>mul(803,111)(,,'select()select()who()[ !mul(143,742)+:# {mul(891,385)where()}<%^>mul(995,109)'?from()$):who()mul(414,498)&/%mul(809,958),why()[!>,mul(591,908!(how()}mul(600,673)'%* *mul(48:$);(/from(371,7)(>mul(261,884)?&\", \")mul(246,229) >;*'&!\", ',+mul(131,199),$', '-(what()mul(13,595)<', \"]why():^why()<%*mul(345,947)[what()[how()-}/]^?mul(202,126)}who()@'mul(637,167)@mul(216<who()what()(<&mul(630,666)$when()why()?< mul(595,125)#^(}['?mul(493,439)>'\", ',who()how() %mul(839,198))do()select()*from()mul(903,555)what()mul(74,674)%;@<from()%*+<>mul(190,543#)])[^*! ,>mul(428,756)/:>+%?mul(585,685)?@~/*why()){[mul(87,499)],@~!}mul(585,674) [,],]}?[:mul(511,978)!?)', \"&~*mul(735,638)select()[{from()!{>mul(897,633)select() #*mul(680,8)mul(671*how()^mul(580,632)(} how(9,101)from()where()'<&mul(936,112)select()what()how()#mul(720,608)'&^/ &when()@mul(697,116),#from(),what()!where();(:mul(833,800#mul(842,722)why()$from()[(^from()/mul(591,920)<how(88,219)>how()(\", '}mul(65,254)#why()@mul(696,883)^?what()mul(917,413)from();>{~mul(524,943)mul(465,955)how()select() &how()how()mul(528,18)how()]]do(){who();~>who()&mul(837,821)\\n+when()mul(957,88){mul(446,234),(%[mul(225,735)mul(616,489)<[]~+@why(274,559)-why(45,518)mul(841,337)@mul(826,883)-(where()', \";@'+~/from()mul(829,811)(what()how()how()#mul(435,969)mul(743,179)from()/'[/,];mul(797,84)[from()>:~&$} mul(934,535)@?<?'select(),,<)mul(281,662)when()why()$>})%mul(630,155)]mul(81,271)why();@;%]who()mul(616,154)^do()^)-*;/mul(562,475)select()(select())$mul(119,594)what()<when()mul(738,534)where())(?($-)>?mul(103,712)why()(what()mul(358,496),why()~+<!when(324,160)[~%mul(48,331)?* select()/$;[?where()mul(56,877)$where()why()~'#mul(66,22)}where(),]mul(543,366)mul(510$@who(626,85)mul(481,102)%do()why()what()mul(92,160)mul(716,567);[>select()what()~select()from()mul(316,752):+^mul(851,254)select()from(){</how() /+\", \"from()}?>when(216,975):*mul(776,658)from()from()?!mul(724,606)from()mul(878what()^%'why()>]mul(920,733)mul(500,262)when()why()do()]!who(333,560)]why()^ ,}mul(594,767)~':}!mul(69,623)})where()where()@-^mul(510,559)from()where()mul(990,412)%)[ how()mul(627,280)@mul(314,481)- from()how()who()}'<^*mul(515,459)$how()do()]mul(307,482)@~( $(@-%:mul(460,946)<how()what()what()when(609,900)*,<mul(500,943)+how(611,604)mul(851,219) [why()where()]>%mul(942,646) {>mul(160,832)where()when()what()~{where()&@mul(24,840)^#[mul(344,387)#how();mul(525,285)mul(221,638)-!/?#-$^\", \"mul(91,395)select(43,376)what()]~mul(677,682)from()$ mul(358,545)$+%mul(697,89):how()who()^mul(599,952)?where()#mul(752,46)where()* ?},#'mul(803,569)select()+()-when()*mul(5,223)'<])#~*^[mul(360,79)<who()!*&where(75,589)^-!;mul(657,581)}-$mul(677,274):*mul(416,377)when(),$><$+mul(784,713)-%when();from()why()<]mul(288,526)';^~do()[;where()}%?<^<how()mul(674,809)/-(mul(93,723)$why()+;how()~)mul(588,165)mul(597,872)[%+)+from()when()why()<<mul(484,118):where()@:<,how()mul(824why()^?*^-}mul(805,860)#mul(54,678)~where()* >+<<mul(536,459)select(),select()^*{%mul(364,110)+-*$who()mul(996,17)*<how()^^',who()%mul(595,489)-#)]];mul(672,920)when()<*>mul(25,575)#^;mul(169,580)when() ^where();]mul(575,888)'who() &::,mul(172,538)@when()*!mul(718,235)%+/mul(281,117)who(),\", \";what()how()select(126,34);why(460,565)mul(153,278)~when()*]mul(284,592)what()#@mul(416,344)+how()from(472,343)+]+*? mul(218,315)who()#:$@{}mul(415,704)mul(367,153)*where()!'do()what()[mul(298,416)<'*$:} !mul(8,562 ~#/[{~-$what()&mul(312,424) '??mul-$ -mul(49,590)>[+{how(472,207)]^mul(482,423)&why()(#^' mul(178,565)~^&>from()!#?\", \"why()who(596,596))who()from()>how():{@mul(385,718) ~?@//*<mul(875,98)select()($?mul(427,44)],select()how()mul(942,194)how()~select()]/mul(558,119)select()&how()where():mul(858,264)&mul(400,374({}&&>*mul(783,105)~why(22,278):#how()do(),from()!:mul(40,924){[when(),/*mul(694~+mul(311,607)who()[/'mul(744,908)%>: ]~,:mul(310,993)from()%:-(+where()when()[mul(455,786)from()~]?from()^where()mul(460,406)how()when(831,855)'where()>[,:mul(250,253)~:select()){#)[[[mul(825!<{from()mul(205,719))why()@?%mul(729,531):where(); $~ mul(547,617)when()/mul(791,433)from()%select()what()%how()%}}mul(616,548)?%:',when()where()who(),mul(417,691)mul(548,124)<-%mul(459,792)mul(93,742)&from()who()select()mul(38,516)why()$ ; -how();mul(682,71);*why(603,344)mul(588,565)*#:do()'from()!who()-mul(564,344)mul(58,41)mul(881,91) when();/#!/usr/bin/perl!+'mul(791,572)\\n%mul(264,168)mul(409,229)[#what()mul(393,212)$-from()'*do()mul(274,560)-{+::&>,mul(778,511)when()[;why()'how(701,98)%}mul(630,304){%{>*why(52,488)?}[(mul(149,108&'why(222,790)[mul(8,101)}>;why())what()mul$-%^why()mul(823,831)'*+mul(2,756)>, *\", \";/}~&mul(602,479)~%)from()*}-when()%^mul(849,417)$>!-+from() +mul(280,463)'select(),@how(637,7)+&?mulhow(771,951)$mul(373,910)what()when()from()-]:why()mul(835,707):<]&when(915,675)~mul(628,69)&^@&#)mul(419,539):%:mul(534,992)'mul(987,602}why() when()]mul(438,915)~}$why()@!'#>\", \"^)}?-select(355,550)},,(mul(649,262)^ *[&}<what()mul(504,106<(where()}!>/%mul(867,47)mul(104,808):@why()'@'($$mul(74,805)what(597,630)}(;]>~mul(217,927)>what()mul(669,965)>from()mul(647,126)->mul(52,497) select()<mul(168,794)!from() ^when()what(89,684)from()mul(516from();where()^%?{mul(154,856)?#!@*mul(197,299)#$where()select()+;when()>mul(22,612from()why()'mul(277,463)!mul(473,104)[!:;mul(655,992)how()>%(what()-mul'why()!&where(11,929)+mul(314,422)$how()what(610,732):&{~}#select()mul(517,349)why()!mul(815,441)#why(349,312)))<who()}%@who()mul(581,636)why()<mulwho()[ $%!)?~-mul(90,929)how()+mul(465,47)^!<>how()['$where()[mul(593,303)]#$^;mul(901,6)<-}:,who()mul(254,964)select()@['mul(297,705) who()#^mul(794,226)when()who()who(562,667)>}[mul(265,242$'from()@}mul(724,493)mul(313,610)*->%,mul(83,839)^)%mul(149,753)&when()select()from() 'mul(3,784)select()select(715,428)mul(502,975)how()who() !when();{[mul(106,800)<<do()<)when()@+select()(mul(330,370)(;how()#from(){from(147,942)$'/mul(465,263)(where()mul(793,96<:where()\", \"^select()*mul(445,72)<$ <~#:[;mul(550,104)select()(mul(623,888)do()&)-who():~when()-}mul(876when()?+<what()(mul(89,377)mul(197,130)how()#??{!)(mul(627,592)*mul(417,712-~<mul(755,450)%][mul(94,330)mul(440,265)mul(462,481)+!&&))$<%,mul(667,710)^,mul(676,29)} {@:$where()@/mul(249,944)select()}mul(144,151)how()]#{@who(280,893)>;mul(513,728)select()select()}@;':from():mul(259,697}'$]&':<mul(468,141){:mul(603,934)?$mul(70,510)']?/mul(26,892) when()what()mul(783,778)^how()<]({mul(775,826)when()[^[?'(mul(883,142)where()what()]who() mul(286,488){'~:% ^},mul(207,126)&#select();~from()#mul(88,811)'}mul(828,951)~[<why()+%{select()how()mul(281,855)mul(553,325)where()*'select(343,389)+when()from();mul(133,474what()%&mul(930,882)-@mul(410,901)),$^~,when()!{who()do()who()select()where(811,718):^-from()mul(714,179)^what()who()?-what();:mul(668,570)+how()>+mul(998,295)how()@who();!mul(947,199)?/what()where()where()]mul(415,221)select(487,105)^mul(688,128)#&mul(394,445)mul(384,810) @!why()do();&!where(424,549)why()mul(934,449)%()-^from()?who()<(do()when()'what()#mul(424select(76,581):<+}from()#>+mul(616,317)#$what()@-select(425,315)mul(146,882)mul(509,291/#from()mul(152,967)why()how()mul(348,501)<[<who()mul(736select()+&[(@;?mul(658,85))*:where()$+!when(557,300)how()where()mul(801,846)-@{^+:-)(mul(201,50)how(980,573)~mul(447,803)*}mul(423,648)mul(666,375)how()&when()(;^:<what()mul(102,960)who()<~-+select()mul(503,58)what()where()?mul(280,485!who()where()@^mul(810,988)how()}:,{\", \"+what()/!-where()select())*mul(762,285)*{[where()-;/+#mul(268,605) where()+{/?select();mul(596,753),select()why()@what(){what()mul(758,730)%mul(276,709)$:;mul(307,778#^who()select()where()&from();mul(397,362)!when()}}[mul(635,662)why()'<who(403,889)mul(609,78)select())how()where()^?mul(9,351)/who()}*!why()-mul(77,125)$select() what()/mul(614,43)+&][]{<mul(893,290)-?-^mul(590,17)!where():mul(931,59)/+how()from(610,234)why()mul(50,444)'mul)from()^*mul(401,587)%}[?when()~?)~#mul(872,883)+^when()! &),,+do()] >&^who()why():+mul(36/mul(856,681)!mul(46,203)\\nmul(315,935)mul(451,658)when()when(353,392)<<select())$,mul(842,863,who()?}<mul(673,921)!$/mul(185,371){select()from()?from()&mul(412,471)' mul(566,75)%+()\", \"~[<what()mul(923,512)>why()]*')mul(21,640)from()mul(755,282)>^why()from()mul(442,981)!when()^why()why()(/mul(876,31),who()/[mul(740,627)]<when()mul(616,896)]~){,,:{mul(475,422),%}&'}mul(153,843)+}?@,]&@*?mul(348,553)*$mul(542,601)$)mul(567,799)?}from()how(585,456)from() 'from()?mul(961,457)@;when()]why()<:?(mul(337,246)%where()+ #+how()mul(602,592),]@,^$mul(271,610)select()+why(34,14),//{^$+mul(183,953)who()when(290,111),]>who()/+[mul:+<?when()mul(346,464)*'@from()-where()][&mul(533,382) mul(253,576)!;)#<@from(260,939),mul(903,385)mul(389,764)^%who()why()where()what()mul(445,854)(who()^)?mul(714,731)!}how(100,829)];?where()?do()//<@mul(180,318)/)what(),;]mul(130,856)mul(796,929)mul(564]{how())[~'#>mul(557,285)!(&how()mul(538,865)select()what()~$from()([+when()/mul(826,278):@select(546,967)!?&select()what()mul(847,194)#<who()select()?why())@mul(997,603)]mul$&do()mul(434,51)}how()]^*$mul(18,446)~mul(540,181)]*]?select()when()<[mul(636,536))mulwhy(496,145)^)+>{mul(468,530)*![%where()^<<from(535,872)~mul(276,519)why(120,307):>what()?&mul(277^ mul(780,751)^what()~!#mul(635,606)?*when(): }who()]-\", \"<from()&what()#@$mul(491,700)mul(887,685) +#how()}who()+mul(17,441)who(969,103)who()(why()mul(525,434){@]@~mul(760,445)mul(759,803)how()~ *when()mul(584,425)[;why())when(){(why()/how()mul(386,687);*-}]~who(224,978))mul(564,88)!;<-:),@%mul(309where()/;^-*?select() ]from()mul(504,612)*<,@*select(),'@mul(21,237)- when()<>mul(42,308)+,(how()how()$-!~mul(29,791)%)mul(248,71)#when()-)]mul(670when():from(505,247)who()>select()what()'(mul(327,578)from()from(){who()who()from()^/mulwhen(801,176)what()};}<\", \"{what()([){]?%-mul(808,60)mul(207,689)mul?-who()~}~where()when()*,mul(81,901)>! :#-:who():/mul(466,327)#~'!),&>mul(776,335where()]why()&]?]:how()how(),do()mul(442,378)when()/^^mul(407,519)'-mul(157,451)+]from()when()when()/mul(689,597#{mul(387,624)><]&$!from()%[-\", \"what()why(801,120)how():%select())(mul(847,645)where();&'}#how(698,791)!\", \"{)<^mul(694,504)](/*{$who()+mul(480,559)where()#>'who()[}select()!@mul(225,926)when()?%>+mul(631,126)}#@how()mul(712,802)-select()why()~'mul(748,579)from()<who() )\", \"how()from()# mul(48,962) @&;!where()/why()$mul(952,98)why()#*where()where()mul(850,784);[$#),;select()mul(420,384)why(),{<%#[mul(667,514)&*'\", \",<mul(401,476)~[how()<mul(441,886)mul(509,477how()~do()when()$?~mul(297,954]when(){from(423,995)@from()(<mul(167,382)&+how(){who():{mul(881,865)who()what():what();mul(335,170)**((mul(158,919)@+~from()'<^ -<mul(497,843)@mul(407,637);*{-#mul(377,786)select()-/,do()mul(63,526) ~why()select()what()mul(499,65)*@-where()!from()/where()mul(830,277)+mul(975,180)@-mul(366,372)(*:}when(623,620);)mul(109,618)-];from()$~what()}+mul(959,532)from();mul(660,115)- mul(48,647)<who()/what()%#{~why()@mul(78,243)where()$from()*+%/&{!mul(798,985)how()(%why()~ [,$!mul(20,376){when(741,432)^,+'who()'?mul#[}from()where()when()[}why()'-mul(905,28)(mul(713,649)<:<mul(357,904)/*/)(]mul(850,489),% *}mul(509,713)mul(321,759){mul(631,140)why()mul(757,485)>{%mul(649,879){:select()~&!,[ !mul(147,693)<+}mul(87,949)-{where(345,734)/ mul(351,115)></who()]$mul(548,692)how()#>mul(52,566)&mul(427,269)}mul(901,457)when()&mul(600,957)mul(734,851)!why()/[$/how();mul(383,59)'why(802,790)(;%'from()who()mul(904how()<;select()@{,who()>[\", \"why()}[&[!mul(859,668)what()^mul(483,700)\\n]where()>>>&^@what()mul(320,309)[#<#:]~/mul(497,511)mul(95,653)how():mul(572,330)&mul(809,308)*(&:mul(29,810)who()how():mul(915,147)when()^#mul(849,988);who()?,(/*mul(129,470)select())$select()-&/why()where():do()mul(590,753),@;'/mul(396,339)>%mul(613,991) '{,(mul(899,674))/$}from(656,762)'select()(';do()+-(@mul(502,495)]{$>@)+do()'why()select(),when()mul(454,97)')'where(326,126) select()mul(334,130who(494,552)%@*$who(979,600)mul(876,925)^&^mul(975,151))who()who()&mul(136,404);%!';#mul(450,492[}+[&[$}%//mul(487,75)%mul(870,786),when()why()+~>mul(316,132)-from()who()when()'@who()mul(169,959)~~when()]how()+from()*^mul?&why()how()mul(641,834)^:!(-#mul(197,843why()?}[-mul(479,27)#,/when()when(284,485)from()(mul{)from()+'$~from()*<mul(133,617)mul(211,614)?&#select()++}@mul(454,721)do()&mul(818,834)when();where()mul(863,7)? ;@<]mul(318,778),@@([(^$mul(572,286),:where(706,609)what()-!^how()~mul(532,946)mul(318,32)%mul(883,395)what() where())#mul#-#when()%mul(295,998)]why()&mul(459,716)~who()?#who()<how()-(mul(723,19), ,mul(25,912)where()what()mul(220,998),<){{'mul(537,203)how()what()$mul(179,953)+ &where(134,23)#?mul(654,670)]mul(120,530)#when()>mul(555,485)mul(37,175what()why()who()mul(849,203)who(607,487)how()select():&&;mul(874,736)when()/from(626,997)mul(482,451))who()[};mul(186,966)select()when()*mul(918,369)~who()](%mul(452,814)/&&^-!<what()what()mul(983,42)?;$[(+*what()\", \"who()!)who()>&$<<{mul(161,632)]mul(434,106):){select()mul(137,656)why()*when()^mul(198,859):mul(589,609) @-mul(79,388)/+}~]}from()how(),do()@<#])-mul(673,936)!mul(999,158)%mul(600,817)%~!#<mul(503,532) )$why()&mul(157,960)*:when()(^mul(190,111) #mul(298,41)!)how()why()~;mul(467,828)%#*-#mul(745,381)mul(716,679)mul(901,414)#'->?@<^mul(948,543)$),'mul(108,479)]&mul(359,23)~@{+when()&%^!{mul(186,477)who()from()select()*{where()how()%%/mul(714,701)select()what()why()<mul(449,342)/#(mul(757,350)]/<+mul(765,807)-)])why():from()&{mul(239,945){+])mul(50,44)>from(138,787)<mul(808,115)*,why()why()mul(282,601)from()select()}!' mul(429,560)mul(495,752),who()];->from()'$ mul(589,314)&what()}]**where()\", \"@'?<!mul(11,30)#{what():mul(62,714):from()where():@what()how():mul(770,297)$from(35,334)why()^)%where(775,186)mul(470,300)where()when()%select()#^mul(565,583)where()%):mul(188,39)-/mul(502,616)}{when()@/]&/mul(24,160)* ~&&-[,~,mul(132,324)who()[$}what()mul(756,950)/]*/'where()@~->mul(905,694)%~mul(52,222),?]mul(726,995):where()^'[/mul(948,887)how()mul(396,68)what(){;select()$[% (mul(939,722)why()from()$who() &,$]mul(917,716)how()where()']~%'mul(174,257)/how()why()@select()mul(673,441)-<)'?select()do()how():what()]{}?-mul(202,788)[mul(842,734)who(980,842)/?/{+how()select()&how(149,196)mul(533,78),@#select()\", \";when()mul(595,87)[(how()-;do()@>what()mul(543,798)/&mul(118,844)who(520,900)>!mul(615,214)'-/select(){where()@do()*#{%/mul(254,489)$@*,who()^mul(209,427)<%how()'^!^{how()mul(112,898)where()-/what()% ^'mul(400,703)mul(347,239)+:who()select()'<,mul(695,520)mul(595,418)why()?!#&^,;,:mul(128,623)$:/@why()$,!$where()mul(489,451):]}mul(426,973)/)\", '-<]what()what()!how()mul(384,927)?select()~:]*])-#mul(210,978)why()-/']\n",
      "rest: [[\"[;<+ /from()[mul(840,803)}?mul(429,848)?select()how()^why()],&#select()mul(519,894){ !>:^@+mul(522,225)@!^^/'[>select(118,66)>mul(847,195)when(585,749)]mul(641,667):>mul(317,349) +:/^*what()mul(352,440)select()mul(349,981))@mul(450,917)why()how()mul(471,401)?where():}select():mul(632,956))mul(727,370)!}$~*%+$\"], ['}!select()when()!mul(676,368)how()from(966,785)@:$+)how()mul(414,120)mul(108,395) +~{#!@select(),mul(483,964)&', \"?>mul(963,893)$,,/%'mul(318,508)?,{mul(390,813)select()>(select()mul(792,357)!{where();mul(717,18)why()$#]why()$^?mul(948,239)how()&>$from()]:>?select()mul(453,180)&&]&,[how()mul(674,281);*how()mul(548,919)how()]{{who()~+where()where()&mul(962,14)/why(),%>when()mul(31,451)/)&:,>}mul(225,266)-*)where()who()]#mul(224,69)#&-+~mul(309,393)@#;%!(][select()mul(389,558)+*how()*^+when()]when()mul(995,181);(mul(5,74)&(#^from()$~&\"], [\"%<from()}where()]%{#:mul(256,15)]^]mul[$%;where()where()mul(134,380);^where();*mul(505,185)how()what()mul(684,993)%/from(){select()why()mul(265,113)who()@,mul(739,805)what()<}[$$:,mul(570,375))[mul(677,326)-{why()?<how()% mul(186,317)>*<^)from()what()#@what()mul(502,65)where()why()(!*where()from(){/mul(847,541)mul(116,490)]';how(612,404))when()who()&; \"], [], [], [\"[who()what() mul(31,997)$%(where(309,559)%: mul(177,184)@mul(58,102)\\n'^why()>-why()mul(489,67)who(682,115)where()how()>why()~;'^mul(179,994)who()#[+when()}mul(343,121)]^mul(622how()select()<{how()mul(315,335)-:%mul(611,869)who()when()$where()who()mul(242who()from()%&!['\", \"@:^-})}';*mul(266,851);^[{!&why()how()from()mul(980,269)^{where()how()/where():;+mul(971,795)#>][+^where()mul(279,554)/why()mul(736,24)mul(63,622when()who()how() -;mul(500,888) ]where()where()when();mul(255,25)<]!-,#!+how()@\", 'mul(670,579)?(//]from(41,426)$', \"mul(427,50)/%mul(359,247)'what()~{~-?[#mul(862,40)]{from()when()mul(426,212)>who()mul(653,462)why()mul(15,779)<mul(74,351)?what()#when()$?,select()mul(597,374)\", '#<select(841,354)@why()who()how()][!mul(35,834;*]}why()(mul(83,744)!<?mul(423,255));;who()select()where()%&<;mul(357,9)%how();&?,(mul^how()}}where()', \"+ :)mul(381,962):^<#/'why()>)]mul(258,38)how()**$?(}% ;mul(624,853)[;&select()where()*-)<)mul(111,225)mul(440,503)/what()###mul(840,369)who()mul(529,595)>(-/who()mul(168,832)mul(658,544)%:~~)what()why()%+]mul(358,878)who()'$+@-)*mul(30,603)&-\", 'mul(627?mul(834,46)+when(751,926)-mul(132,173)who()', \"-%where()mul(487,54)!$what(),{mul(546,92):$where())&/mul(978,930)-/mul)#mul(693,136)!$select()mul(490,906)%!}({;where()mul(853,453)*]!<%what(85,66)+ mul(720,355)]+mul(65,942)? $mul(736,168)<when(639,880)mul(106,601)@why()*?why(){[mul(506,458)']?'mul(923how()/%/~}\", \"how()<@,where()mul(445,231)&*(when(705,194)! -!mul(702,772)~;@from(),+$?/mul(721,487)~)[how()}mul(78,576)}mul(230,960)>#who()from()< %mul(279,223),,how()select()'mul(949,79)@)-who()when()+;/why(),\"], [], ['!>->$@mul(475,800)who()what()', \")}from()&why(821,875))mul(675when()select()), %mul(786,308)-[,/,+mul(305,3)how()what(107,974);!}+how()mul(535,976)from()[)mul(820,558):(why(){^mul(715,523);mul(288,378)'why()$why(),@mul(184,850)when()'';^where()mul(957,549)\", \":~{:{)select()mul(347,642)from():(mul(834,376)>mul(803,111)(,,'select()select()who()[ !mul(143,742)+:# {mul(891,385)where()}<%^>mul(995,109)'?from()$):who()mul(414,498)&/%mul(809,958),why()[!>,mul(591,908!(how()}mul(600,673)'%* *mul(48:$);(/from(371,7)(>mul(261,884)?&\"], [], [], [], [], ['select()*from()mul(903,555)what()mul(74,674)%;@<from()%*+<>mul(190,543#)])[^*! ,>mul(428,756)/:>+%?mul(585,685)?@~/*why()){[mul(87,499)],@~!}mul(585,674) [,],]}?[:mul(511,978)!?)'], [], ['{who();~>who()&mul(837,821)\\n+when()mul(957,88){mul(446,234),(%[mul(225,735)mul(616,489)<[]~+@why(274,559)-why(45,518)mul(841,337)@mul(826,883)-(where()'], [\"^)-*;/mul(562,475)select()(select())$mul(119,594)what()<when()mul(738,534)where())(?($-)>?mul(103,712)why()(what()mul(358,496),why()~+<!when(324,160)[~%mul(48,331)?* select()/$;[?where()mul(56,877)$where()why()~'#mul(66,22)}where(),]mul(543,366)mul(510$@who(626,85)mul(481,102)%\", 'why()what()mul(92,160)mul(716,567);[>select()what()~select()from()mul(316,752):+^mul(851,254)select()from(){</how() /+'], [\"]!who(333,560)]why()^ ,}mul(594,767)~':}!mul(69,623)})where()where()@-^mul(510,559)from()where()mul(990,412)%)[ how()mul(627,280)@mul(314,481)- from()how()who()}'<^*mul(515,459)$how()\", ']mul(307,482)@~( $(@-%:mul(460,946)<how()what()what()when(609,900)*,<mul(500,943)+how(611,604)mul(851,219) [why()where()]>%mul(942,646) {>mul(160,832)where()when()what()~{where()&@mul(24,840)^#[mul(344,387)#how();mul(525,285)mul(221,638)-!/?#-$^'], [\"[;where()}%?<^<how()mul(674,809)/-(mul(93,723)$why()+;how()~)mul(588,165)mul(597,872)[%+)+from()when()why()<<mul(484,118):where()@:<,how()mul(824why()^?*^-}mul(805,860)#mul(54,678)~where()* >+<<mul(536,459)select(),select()^*{%mul(364,110)+-*$who()mul(996,17)*<how()^^',who()%mul(595,489)-#)]];mul(672,920)when()<*>mul(25,575)#^;mul(169,580)when() ^where();]mul(575,888)'who() &::,mul(172,538)@when()*!mul(718,235)%+/mul(281,117)who(),\"], [\"what()[mul(298,416)<'*$:} !mul(8,562 ~#/[{~-$what()&mul(312,424) '??mul-$ -mul(49,590)>[+{how(472,207)]^mul(482,423)&why()(#^' mul(178,565)~^&>from()!#?\"], [\",from()!:mul(40,924){[when(),/*mul(694~+mul(311,607)who()[/'mul(744,908)%>: ]~,:mul(310,993)from()%:-(+where()when()[mul(455,786)from()~]?from()^where()mul(460,406)how()when(831,855)'where()>[,:mul(250,253)~:select()){#)[[[mul(825!<{from()mul(205,719))why()@?%mul(729,531):where(); $~ mul(547,617)when()/mul(791,433)from()%select()what()%how()%}}mul(616,548)?%:',when()where()who(),mul(417,691)mul(548,124)<-%mul(459,792)mul(93,742)&from()who()select()mul(38,516)why()$ ; -how();mul(682,71);*why(603,344)mul(588,565)*#:\", \"'from()!who()-mul(564,344)mul(58,41)mul(881,91) when();/#!/usr/bin/perl!+'mul(791,572)\\n%mul(264,168)mul(409,229)[#what()mul(393,212)$-from()'*\", \"mul(274,560)-{+::&>,mul(778,511)when()[;why()'how(701,98)%}mul(630,304){%{>*why(52,488)?}[(mul(149,108&'why(222,790)[mul(8,101)}>;why())what()mul$-%^why()mul(823,831)'*+mul(2,756)>, *\"], [], [\"<)when()@+select()(mul(330,370)(;how()#from(){from(147,942)$'/mul(465,263)(where()mul(793,96<:where()\"], [\"&)-who():~when()-}mul(876when()?+<what()(mul(89,377)mul(197,130)how()#??{!)(mul(627,592)*mul(417,712-~<mul(755,450)%][mul(94,330)mul(440,265)mul(462,481)+!&&))$<%,mul(667,710)^,mul(676,29)} {@:$where()@/mul(249,944)select()}mul(144,151)how()]#{@who(280,893)>;mul(513,728)select()select()}@;':from():mul(259,697}'$]&':<mul(468,141){:mul(603,934)?$mul(70,510)']?/mul(26,892) when()what()mul(783,778)^how()<]({mul(775,826)when()[^[?'(mul(883,142)where()what()]who() mul(286,488){'~:% ^},mul(207,126)&#select();~from()#mul(88,811)'}mul(828,951)~[<why()+%{select()how()mul(281,855)mul(553,325)where()*'select(343,389)+when()from();mul(133,474what()%&mul(930,882)-@mul(410,901)),$^~,when()!{who()\", 'who()select()where(811,718):^-from()mul(714,179)^what()who()?-what();:mul(668,570)+how()>+mul(998,295)how()@who();!mul(947,199)?/what()where()where()]mul(415,221)select(487,105)^mul(688,128)#&mul(394,445)mul(384,810) @!why()', ';&!where(424,549)why()mul(934,449)%()-^from()?who()<(', \"when()'what()#mul(424select(76,581):<+}from()#>+mul(616,317)#$what()@-select(425,315)mul(146,882)mul(509,291/#from()mul(152,967)why()how()mul(348,501)<[<who()mul(736select()+&[(@;?mul(658,85))*:where()$+!when(557,300)how()where()mul(801,846)-@{^+:-)(mul(201,50)how(980,573)~mul(447,803)*}mul(423,648)mul(666,375)how()&when()(;^:<what()mul(102,960)who()<~-+select()mul(503,58)what()where()?mul(280,485!who()where()@^mul(810,988)how()}:,{\"], [\"] >&^who()why():+mul(36/mul(856,681)!mul(46,203)\\nmul(315,935)mul(451,658)when()when(353,392)<<select())$,mul(842,863,who()?}<mul(673,921)!$/mul(185,371){select()from()?from()&mul(412,471)' mul(566,75)%+()\"], [\"//<@mul(180,318)/)what(),;]mul(130,856)mul(796,929)mul(564]{how())[~'#>mul(557,285)!(&how()mul(538,865)select()what()~$from()([+when()/mul(826,278):@select(546,967)!?&select()what()mul(847,194)#<who()select()?why())@mul(997,603)]mul$&\", 'mul(434,51)}how()]^*$mul(18,446)~mul(540,181)]*]?select()when()<[mul(636,536))mulwhy(496,145)^)+>{mul(468,530)*![%where()^<<from(535,872)~mul(276,519)why(120,307):>what()?&mul(277^ mul(780,751)^what()~!#mul(635,606)?*when(): }who()]-'], [], [\"mul(442,378)when()/^^mul(407,519)'-mul(157,451)+]from()when()when()/mul(689,597#{mul(387,624)><]&$!from()%[-\"], [], [], [], [\"when()$?~mul(297,954]when(){from(423,995)@from()(<mul(167,382)&+how(){who():{mul(881,865)who()what():what();mul(335,170)**((mul(158,919)@+~from()'<^ -<mul(497,843)@mul(407,637);*{-#mul(377,786)select()-/,\", \"mul(63,526) ~why()select()what()mul(499,65)*@-where()!from()/where()mul(830,277)+mul(975,180)@-mul(366,372)(*:}when(623,620);)mul(109,618)-];from()$~what()}+mul(959,532)from();mul(660,115)- mul(48,647)<who()/what()%#{~why()@mul(78,243)where()$from()*+%/&{!mul(798,985)how()(%why()~ [,$!mul(20,376){when(741,432)^,+'who()'?mul#[}from()where()when()[}why()'-mul(905,28)(mul(713,649)<:<mul(357,904)/*/)(]mul(850,489),% *}mul(509,713)mul(321,759){mul(631,140)why()mul(757,485)>{%mul(649,879){:select()~&!,[ !mul(147,693)<+}mul(87,949)-{where(345,734)/ mul(351,115)></who()]$mul(548,692)how()#>mul(52,566)&mul(427,269)}mul(901,457)when()&mul(600,957)mul(734,851)!why()/[$/how();mul(383,59)'why(802,790)(;%'from()who()mul(904how()<;select()@{,who()>[\"], [\"mul(590,753),@;'/mul(396,339)>%mul(613,991) '{,(mul(899,674))/$}from(656,762)'select()(';\", '+-(@mul(502,495)]{$>@)+', \"'why()select(),when()mul(454,97)')'where(326,126) select()mul(334,130who(494,552)%@*$who(979,600)mul(876,925)^&^mul(975,151))who()who()&mul(136,404);%!';#mul(450,492[}+[&[$}%//mul(487,75)%mul(870,786),when()why()+~>mul(316,132)-from()who()when()'@who()mul(169,959)~~when()]how()+from()*^mul?&why()how()mul(641,834)^:!(-#mul(197,843why()?}[-mul(479,27)#,/when()when(284,485)from()(mul{)from()+'$~from()*<mul(133,617)mul(211,614)?&#select()++}@mul(454,721)\", \"&mul(818,834)when();where()mul(863,7)? ;@<]mul(318,778),@@([(^$mul(572,286),:where(706,609)what()-!^how()~mul(532,946)mul(318,32)%mul(883,395)what() where())#mul#-#when()%mul(295,998)]why()&mul(459,716)~who()?#who()<how()-(mul(723,19), ,mul(25,912)where()what()mul(220,998),<){{'mul(537,203)how()what()$mul(179,953)+ &where(134,23)#?mul(654,670)]mul(120,530)#when()>mul(555,485)mul(37,175what()why()who()mul(849,203)who(607,487)how()select():&&;mul(874,736)when()/from(626,997)mul(482,451))who()[};mul(186,966)select()when()*mul(918,369)~who()](%mul(452,814)/&&^-!<what()what()mul(983,42)?;$[(+*what()\"], [\"@<#])-mul(673,936)!mul(999,158)%mul(600,817)%~!#<mul(503,532) )$why()&mul(157,960)*:when()(^mul(190,111) #mul(298,41)!)how()why()~;mul(467,828)%#*-#mul(745,381)mul(716,679)mul(901,414)#'->?@<^mul(948,543)$),'mul(108,479)]&mul(359,23)~@{+when()&%^!{mul(186,477)who()from()select()*{where()how()%%/mul(714,701)select()what()why()<mul(449,342)/#(mul(757,350)]/<+mul(765,807)-)])why():from()&{mul(239,945){+])mul(50,44)>from(138,787)<mul(808,115)*,why()why()mul(282,601)from()select()}!' mul(429,560)mul(495,752),who()];->from()'$ mul(589,314)&what()}]**where()\"], ['how():what()]{}?-mul(202,788)[mul(842,734)who(980,842)/?/{+how()select()&how(149,196)mul(533,78),@#select()'], [\"@>what()mul(543,798)/&mul(118,844)who(520,900)>!mul(615,214)'-/select(){where()@\", \"*#{%/mul(254,489)$@*,who()^mul(209,427)<%how()'^!^{how()mul(112,898)where()-/what()% ^'mul(400,703)mul(347,239)+:who()select()'<,mul(695,520)mul(595,418)why()?!#&^,;,:mul(128,623)$:/@why()$,!$where()mul(489,451):]}mul(426,973)/)\"], []]\n",
      "all dos: ['why()$mul(735,469)^?!what()', [\"[;<+ /from()[mul(840,803)}?mul(429,848)?select()how()^why()],&#select()mul(519,894){ !>:^@+mul(522,225)@!^^/'[>select(118,66)>mul(847,195)when(585,749)]mul(641,667):>mul(317,349) +:/^*what()mul(352,440)select()mul(349,981))@mul(450,917)why()how()mul(471,401)?where():}select():mul(632,956))mul(727,370)!}$~*%+$\"], ['}!select()when()!mul(676,368)how()from(966,785)@:$+)how()mul(414,120)mul(108,395) +~{#!@select(),mul(483,964)&', \"?>mul(963,893)$,,/%'mul(318,508)?,{mul(390,813)select()>(select()mul(792,357)!{where();mul(717,18)why()$#]why()$^?mul(948,239)how()&>$from()]:>?select()mul(453,180)&&]&,[how()mul(674,281);*how()mul(548,919)how()]{{who()~+where()where()&mul(962,14)/why(),%>when()mul(31,451)/)&:,>}mul(225,266)-*)where()who()]#mul(224,69)#&-+~mul(309,393)@#;%!(][select()mul(389,558)+*how()*^+when()]when()mul(995,181);(mul(5,74)&(#^from()$~&\"], [\"%<from()}where()]%{#:mul(256,15)]^]mul[$%;where()where()mul(134,380);^where();*mul(505,185)how()what()mul(684,993)%/from(){select()why()mul(265,113)who()@,mul(739,805)what()<}[$$:,mul(570,375))[mul(677,326)-{why()?<how()% mul(186,317)>*<^)from()what()#@what()mul(502,65)where()why()(!*where()from(){/mul(847,541)mul(116,490)]';how(612,404))when()who()&; \"], [], [], [\"[who()what() mul(31,997)$%(where(309,559)%: mul(177,184)@mul(58,102)\\n'^why()>-why()mul(489,67)who(682,115)where()how()>why()~;'^mul(179,994)who()#[+when()}mul(343,121)]^mul(622how()select()<{how()mul(315,335)-:%mul(611,869)who()when()$where()who()mul(242who()from()%&!['\", \"@:^-})}';*mul(266,851);^[{!&why()how()from()mul(980,269)^{where()how()/where():;+mul(971,795)#>][+^where()mul(279,554)/why()mul(736,24)mul(63,622when()who()how() -;mul(500,888) ]where()where()when();mul(255,25)<]!-,#!+how()@\", 'mul(670,579)?(//]from(41,426)$', \"mul(427,50)/%mul(359,247)'what()~{~-?[#mul(862,40)]{from()when()mul(426,212)>who()mul(653,462)why()mul(15,779)<mul(74,351)?what()#when()$?,select()mul(597,374)\", '#<select(841,354)@why()who()how()][!mul(35,834;*]}why()(mul(83,744)!<?mul(423,255));;who()select()where()%&<;mul(357,9)%how();&?,(mul^how()}}where()', \"+ :)mul(381,962):^<#/'why()>)]mul(258,38)how()**$?(}% ;mul(624,853)[;&select()where()*-)<)mul(111,225)mul(440,503)/what()###mul(840,369)who()mul(529,595)>(-/who()mul(168,832)mul(658,544)%:~~)what()why()%+]mul(358,878)who()'$+@-)*mul(30,603)&-\", 'mul(627?mul(834,46)+when(751,926)-mul(132,173)who()', \"-%where()mul(487,54)!$what(),{mul(546,92):$where())&/mul(978,930)-/mul)#mul(693,136)!$select()mul(490,906)%!}({;where()mul(853,453)*]!<%what(85,66)+ mul(720,355)]+mul(65,942)? $mul(736,168)<when(639,880)mul(106,601)@why()*?why(){[mul(506,458)']?'mul(923how()/%/~}\", \"how()<@,where()mul(445,231)&*(when(705,194)! -!mul(702,772)~;@from(),+$?/mul(721,487)~)[how()}mul(78,576)}mul(230,960)>#who()from()< %mul(279,223),,how()select()'mul(949,79)@)-who()when()+;/why(),\"], [], ['!>->$@mul(475,800)who()what()', \")}from()&why(821,875))mul(675when()select()), %mul(786,308)-[,/,+mul(305,3)how()what(107,974);!}+how()mul(535,976)from()[)mul(820,558):(why(){^mul(715,523);mul(288,378)'why()$why(),@mul(184,850)when()'';^where()mul(957,549)\", \":~{:{)select()mul(347,642)from():(mul(834,376)>mul(803,111)(,,'select()select()who()[ !mul(143,742)+:# {mul(891,385)where()}<%^>mul(995,109)'?from()$):who()mul(414,498)&/%mul(809,958),why()[!>,mul(591,908!(how()}mul(600,673)'%* *mul(48:$);(/from(371,7)(>mul(261,884)?&\"], [], [], [], [], ['select()*from()mul(903,555)what()mul(74,674)%;@<from()%*+<>mul(190,543#)])[^*! ,>mul(428,756)/:>+%?mul(585,685)?@~/*why()){[mul(87,499)],@~!}mul(585,674) [,],]}?[:mul(511,978)!?)'], [], ['{who();~>who()&mul(837,821)\\n+when()mul(957,88){mul(446,234),(%[mul(225,735)mul(616,489)<[]~+@why(274,559)-why(45,518)mul(841,337)@mul(826,883)-(where()'], [\"^)-*;/mul(562,475)select()(select())$mul(119,594)what()<when()mul(738,534)where())(?($-)>?mul(103,712)why()(what()mul(358,496),why()~+<!when(324,160)[~%mul(48,331)?* select()/$;[?where()mul(56,877)$where()why()~'#mul(66,22)}where(),]mul(543,366)mul(510$@who(626,85)mul(481,102)%\", 'why()what()mul(92,160)mul(716,567);[>select()what()~select()from()mul(316,752):+^mul(851,254)select()from(){</how() /+'], [\"]!who(333,560)]why()^ ,}mul(594,767)~':}!mul(69,623)})where()where()@-^mul(510,559)from()where()mul(990,412)%)[ how()mul(627,280)@mul(314,481)- from()how()who()}'<^*mul(515,459)$how()\", ']mul(307,482)@~( $(@-%:mul(460,946)<how()what()what()when(609,900)*,<mul(500,943)+how(611,604)mul(851,219) [why()where()]>%mul(942,646) {>mul(160,832)where()when()what()~{where()&@mul(24,840)^#[mul(344,387)#how();mul(525,285)mul(221,638)-!/?#-$^'], [\"[;where()}%?<^<how()mul(674,809)/-(mul(93,723)$why()+;how()~)mul(588,165)mul(597,872)[%+)+from()when()why()<<mul(484,118):where()@:<,how()mul(824why()^?*^-}mul(805,860)#mul(54,678)~where()* >+<<mul(536,459)select(),select()^*{%mul(364,110)+-*$who()mul(996,17)*<how()^^',who()%mul(595,489)-#)]];mul(672,920)when()<*>mul(25,575)#^;mul(169,580)when() ^where();]mul(575,888)'who() &::,mul(172,538)@when()*!mul(718,235)%+/mul(281,117)who(),\"], [\"what()[mul(298,416)<'*$:} !mul(8,562 ~#/[{~-$what()&mul(312,424) '??mul-$ -mul(49,590)>[+{how(472,207)]^mul(482,423)&why()(#^' mul(178,565)~^&>from()!#?\"], [\",from()!:mul(40,924){[when(),/*mul(694~+mul(311,607)who()[/'mul(744,908)%>: ]~,:mul(310,993)from()%:-(+where()when()[mul(455,786)from()~]?from()^where()mul(460,406)how()when(831,855)'where()>[,:mul(250,253)~:select()){#)[[[mul(825!<{from()mul(205,719))why()@?%mul(729,531):where(); $~ mul(547,617)when()/mul(791,433)from()%select()what()%how()%}}mul(616,548)?%:',when()where()who(),mul(417,691)mul(548,124)<-%mul(459,792)mul(93,742)&from()who()select()mul(38,516)why()$ ; -how();mul(682,71);*why(603,344)mul(588,565)*#:\", \"'from()!who()-mul(564,344)mul(58,41)mul(881,91) when();/#!/usr/bin/perl!+'mul(791,572)\\n%mul(264,168)mul(409,229)[#what()mul(393,212)$-from()'*\", \"mul(274,560)-{+::&>,mul(778,511)when()[;why()'how(701,98)%}mul(630,304){%{>*why(52,488)?}[(mul(149,108&'why(222,790)[mul(8,101)}>;why())what()mul$-%^why()mul(823,831)'*+mul(2,756)>, *\"], [], [\"<)when()@+select()(mul(330,370)(;how()#from(){from(147,942)$'/mul(465,263)(where()mul(793,96<:where()\"], [\"&)-who():~when()-}mul(876when()?+<what()(mul(89,377)mul(197,130)how()#??{!)(mul(627,592)*mul(417,712-~<mul(755,450)%][mul(94,330)mul(440,265)mul(462,481)+!&&))$<%,mul(667,710)^,mul(676,29)} {@:$where()@/mul(249,944)select()}mul(144,151)how()]#{@who(280,893)>;mul(513,728)select()select()}@;':from():mul(259,697}'$]&':<mul(468,141){:mul(603,934)?$mul(70,510)']?/mul(26,892) when()what()mul(783,778)^how()<]({mul(775,826)when()[^[?'(mul(883,142)where()what()]who() mul(286,488){'~:% ^},mul(207,126)&#select();~from()#mul(88,811)'}mul(828,951)~[<why()+%{select()how()mul(281,855)mul(553,325)where()*'select(343,389)+when()from();mul(133,474what()%&mul(930,882)-@mul(410,901)),$^~,when()!{who()\", 'who()select()where(811,718):^-from()mul(714,179)^what()who()?-what();:mul(668,570)+how()>+mul(998,295)how()@who();!mul(947,199)?/what()where()where()]mul(415,221)select(487,105)^mul(688,128)#&mul(394,445)mul(384,810) @!why()', ';&!where(424,549)why()mul(934,449)%()-^from()?who()<(', \"when()'what()#mul(424select(76,581):<+}from()#>+mul(616,317)#$what()@-select(425,315)mul(146,882)mul(509,291/#from()mul(152,967)why()how()mul(348,501)<[<who()mul(736select()+&[(@;?mul(658,85))*:where()$+!when(557,300)how()where()mul(801,846)-@{^+:-)(mul(201,50)how(980,573)~mul(447,803)*}mul(423,648)mul(666,375)how()&when()(;^:<what()mul(102,960)who()<~-+select()mul(503,58)what()where()?mul(280,485!who()where()@^mul(810,988)how()}:,{\"], [\"] >&^who()why():+mul(36/mul(856,681)!mul(46,203)\\nmul(315,935)mul(451,658)when()when(353,392)<<select())$,mul(842,863,who()?}<mul(673,921)!$/mul(185,371){select()from()?from()&mul(412,471)' mul(566,75)%+()\"], [\"//<@mul(180,318)/)what(),;]mul(130,856)mul(796,929)mul(564]{how())[~'#>mul(557,285)!(&how()mul(538,865)select()what()~$from()([+when()/mul(826,278):@select(546,967)!?&select()what()mul(847,194)#<who()select()?why())@mul(997,603)]mul$&\", 'mul(434,51)}how()]^*$mul(18,446)~mul(540,181)]*]?select()when()<[mul(636,536))mulwhy(496,145)^)+>{mul(468,530)*![%where()^<<from(535,872)~mul(276,519)why(120,307):>what()?&mul(277^ mul(780,751)^what()~!#mul(635,606)?*when(): }who()]-'], [], [\"mul(442,378)when()/^^mul(407,519)'-mul(157,451)+]from()when()when()/mul(689,597#{mul(387,624)><]&$!from()%[-\"], [], [], [], [\"when()$?~mul(297,954]when(){from(423,995)@from()(<mul(167,382)&+how(){who():{mul(881,865)who()what():what();mul(335,170)**((mul(158,919)@+~from()'<^ -<mul(497,843)@mul(407,637);*{-#mul(377,786)select()-/,\", \"mul(63,526) ~why()select()what()mul(499,65)*@-where()!from()/where()mul(830,277)+mul(975,180)@-mul(366,372)(*:}when(623,620);)mul(109,618)-];from()$~what()}+mul(959,532)from();mul(660,115)- mul(48,647)<who()/what()%#{~why()@mul(78,243)where()$from()*+%/&{!mul(798,985)how()(%why()~ [,$!mul(20,376){when(741,432)^,+'who()'?mul#[}from()where()when()[}why()'-mul(905,28)(mul(713,649)<:<mul(357,904)/*/)(]mul(850,489),% *}mul(509,713)mul(321,759){mul(631,140)why()mul(757,485)>{%mul(649,879){:select()~&!,[ !mul(147,693)<+}mul(87,949)-{where(345,734)/ mul(351,115)></who()]$mul(548,692)how()#>mul(52,566)&mul(427,269)}mul(901,457)when()&mul(600,957)mul(734,851)!why()/[$/how();mul(383,59)'why(802,790)(;%'from()who()mul(904how()<;select()@{,who()>[\"], [\"mul(590,753),@;'/mul(396,339)>%mul(613,991) '{,(mul(899,674))/$}from(656,762)'select()(';\", '+-(@mul(502,495)]{$>@)+', \"'why()select(),when()mul(454,97)')'where(326,126) select()mul(334,130who(494,552)%@*$who(979,600)mul(876,925)^&^mul(975,151))who()who()&mul(136,404);%!';#mul(450,492[}+[&[$}%//mul(487,75)%mul(870,786),when()why()+~>mul(316,132)-from()who()when()'@who()mul(169,959)~~when()]how()+from()*^mul?&why()how()mul(641,834)^:!(-#mul(197,843why()?}[-mul(479,27)#,/when()when(284,485)from()(mul{)from()+'$~from()*<mul(133,617)mul(211,614)?&#select()++}@mul(454,721)\", \"&mul(818,834)when();where()mul(863,7)? ;@<]mul(318,778),@@([(^$mul(572,286),:where(706,609)what()-!^how()~mul(532,946)mul(318,32)%mul(883,395)what() where())#mul#-#when()%mul(295,998)]why()&mul(459,716)~who()?#who()<how()-(mul(723,19), ,mul(25,912)where()what()mul(220,998),<){{'mul(537,203)how()what()$mul(179,953)+ &where(134,23)#?mul(654,670)]mul(120,530)#when()>mul(555,485)mul(37,175what()why()who()mul(849,203)who(607,487)how()select():&&;mul(874,736)when()/from(626,997)mul(482,451))who()[};mul(186,966)select()when()*mul(918,369)~who()](%mul(452,814)/&&^-!<what()what()mul(983,42)?;$[(+*what()\"], [\"@<#])-mul(673,936)!mul(999,158)%mul(600,817)%~!#<mul(503,532) )$why()&mul(157,960)*:when()(^mul(190,111) #mul(298,41)!)how()why()~;mul(467,828)%#*-#mul(745,381)mul(716,679)mul(901,414)#'->?@<^mul(948,543)$),'mul(108,479)]&mul(359,23)~@{+when()&%^!{mul(186,477)who()from()select()*{where()how()%%/mul(714,701)select()what()why()<mul(449,342)/#(mul(757,350)]/<+mul(765,807)-)])why():from()&{mul(239,945){+])mul(50,44)>from(138,787)<mul(808,115)*,why()why()mul(282,601)from()select()}!' mul(429,560)mul(495,752),who()];->from()'$ mul(589,314)&what()}]**where()\"], ['how():what()]{}?-mul(202,788)[mul(842,734)who(980,842)/?/{+how()select()&how(149,196)mul(533,78),@#select()'], [\"@>what()mul(543,798)/&mul(118,844)who(520,900)>!mul(615,214)'-/select(){where()@\", \"*#{%/mul(254,489)$@*,who()^mul(209,427)<%how()'^!^{how()mul(112,898)where()-/what()% ^'mul(400,703)mul(347,239)+:who()select()'<,mul(695,520)mul(595,418)why()?!#&^,;,:mul(128,623)$:/@why()$,!$where()mul(489,451):]}mul(426,973)/)\"], []]\n"
     ]
    },
    {
     "data": {
      "text/plain": [
       "100450138"
      ]
     },
     "execution_count": 328,
     "metadata": {},
     "output_type": "execute_result"
    }
   ],
   "source": [
    "result = []\n",
    "_s = []\n",
    "for line in open(\"inputs/day3_1.txt\", \"r\").readlines():\n",
    "    _s.append(line)\n",
    "\n",
    "text = \"\".join(_s)\n",
    "valid_muls = muls_do_and_donts(text)\n",
    "valid_muls\n",
    "sum(extract_mul(valid_muls))"
   ]
  },
  {
   "cell_type": "code",
   "execution_count": 324,
   "id": "574770e9-2aed-4aa4-895c-e503d6ce2ead",
   "metadata": {
    "scrolled": true
   },
   "outputs": [
    {
     "data": {
      "text/plain": [
       "11266279"
      ]
     },
     "execution_count": 324,
     "metadata": {},
     "output_type": "execute_result"
    }
   ],
   "source": [
    "sum(result[0])"
   ]
  },
  {
   "cell_type": "code",
   "execution_count": null,
   "id": "f98f4e26-a04e-49ff-b201-daaff991d47e",
   "metadata": {},
   "outputs": [],
   "source": [
    "\"\"\"\n",
    "why()$mul(735,469)^?!what()\n",
    "\n",
    "don't()~~('mul(982,758)what()^-^who()mul(294,364)&#/ )&%)[~mul(285,81)what()[{where()+ mul(129,761)^]why()>$^<>who()mul(53,344)select()%mul(567,352),mul(915,20)/#(>+^how()'mul(141,658){&~!how()from()?~?who()mul(830,116)#%;mul(139,634)?,#+who()@mul(169,719)[)?'-who();mul(18,751)},when(){;/mul(691,391)mul(856,314)^mul(558,88)]('/>how()@where()(,mul(274,100)%who()#~*mul(220,748)@how(){$how()/*%$when()mul(718,754)[!when(617,291)!{(what()+*\n",
    "\"\"\""
   ]
  },
  {
   "cell_type": "markdown",
   "id": "ec7287a3-dcce-4e16-b86a-4119cbac8f64",
   "metadata": {},
   "source": [
    "### Regex goes brrr\n"
   ]
  },
  {
   "cell_type": "code",
   "execution_count": 349,
   "id": "da98d01e-0ed8-44bc-b145-a4838e1229f2",
   "metadata": {},
   "outputs": [],
   "source": [
    "def extract_mul(s: str, pattern = r\"mul\\((\\d+),(\\d+)\\)\"):\n",
    "    matches = re.findall(pattern, s)\n",
    "    matches = [(int(x), int(y)) for x, y in matches]\n",
    "    result = []\n",
    "    for t in matches:\n",
    "        result.append(t[0] * t[1])\n",
    "\n",
    "    return result"
   ]
  },
  {
   "cell_type": "code",
   "execution_count": 350,
   "id": "75a9671e-5bb2-4a6b-b5b7-fa595e5349d3",
   "metadata": {},
   "outputs": [
    {
     "data": {
      "text/plain": [
       "\"xmul(2,4)&mul[3,7]!^don't()_mul(5,5)+mul(32,64](mul(11,8)undo()?mul(8,5))\""
      ]
     },
     "execution_count": 350,
     "metadata": {},
     "output_type": "execute_result"
    }
   ],
   "source": [
    "test2"
   ]
  },
  {
   "cell_type": "code",
   "execution_count": 365,
   "id": "aa057d1e-b86a-4357-b2a9-5278d1b0ced8",
   "metadata": {},
   "outputs": [
    {
     "name": "stdout",
     "output_type": "stream",
     "text": [
      "mul(735,469)\n",
      "don't()\n",
      "mul(982,758)\n",
      "mul(294,364)\n",
      "mul(285,81)\n",
      "mul(129,761)\n",
      "mul(53,344)\n",
      "mul(567,352)\n",
      "mul(915,20)\n",
      "mul(141,658)\n",
      "mul(830,116)\n",
      "mul(139,634)\n",
      "mul(169,719)\n",
      "mul(18,751)\n",
      "mul(691,391)\n",
      "mul(856,314)\n",
      "mul(558,88)\n",
      "mul(274,100)\n",
      "mul(220,748)\n",
      "mul(718,754)\n",
      "do()\n",
      "mul(840,803)\n",
      "mul(429,848)\n",
      "mul(519,894)\n",
      "mul(522,225)\n",
      "mul(847,195)\n",
      "mul(641,667)\n",
      "mul(317,349)\n",
      "mul(352,440)\n",
      "mul(349,981)\n",
      "mul(450,917)\n",
      "mul(471,401)\n",
      "mul(632,956)\n",
      "mul(727,370)\n",
      "don't()\n",
      "mul(276,773)\n",
      "mul(757,668)\n",
      "mul(232,346)\n",
      "mul(898,992)\n",
      "mul(43,434)\n",
      "mul(908,953)\n",
      "do()\n",
      "mul(676,368)\n",
      "mul(414,120)\n",
      "mul(108,395)\n",
      "mul(483,964)\n",
      "do()\n",
      "mul(963,893)\n",
      "mul(318,508)\n",
      "mul(390,813)\n",
      "mul(792,357)\n",
      "mul(717,18)\n",
      "mul(948,239)\n",
      "mul(453,180)\n",
      "mul(674,281)\n",
      "mul(548,919)\n",
      "mul(962,14)\n",
      "mul(31,451)\n",
      "mul(225,266)\n",
      "mul(224,69)\n",
      "mul(309,393)\n",
      "mul(389,558)\n",
      "mul(995,181)\n",
      "mul(5,74)\n",
      "don't()\n",
      "mul(216,767)\n",
      "mul(608,375)\n",
      "mul(504,987)\n",
      "mul(398,418)\n",
      "mul(39,637)\n",
      "mul(708,979)\n",
      "mul(425,905)\n",
      "mul(93,831)\n",
      "mul(70,72)\n",
      "mul(137,510)\n",
      "mul(477,400)\n",
      "mul(364,311)\n",
      "mul(710,251)\n",
      "mul(351,763)\n",
      "mul(517,661)\n",
      "mul(948,407)\n",
      "mul(979,180)\n",
      "mul(602,496)\n",
      "mul(343,710)\n",
      "mul(314,877)\n",
      "mul(480,685)\n",
      "do()\n",
      "mul(256,15)\n",
      "mul(134,380)\n",
      "mul(505,185)\n",
      "mul(684,993)\n",
      "mul(265,113)\n",
      "mul(739,805)\n",
      "mul(570,375)\n",
      "mul(677,326)\n",
      "mul(186,317)\n",
      "mul(502,65)\n",
      "mul(847,541)\n",
      "mul(116,490)\n",
      "don't()\n",
      "mul(446,220)\n",
      "mul(784,876)\n",
      "mul(959,402)\n",
      "mul(362,432)\n",
      "mul(330,805)\n",
      "mul(142,473)\n",
      "don't()\n",
      "mul(965,688)\n",
      "mul(949,478)\n",
      "mul(809,464)\n",
      "mul(720,462)\n",
      "mul(518,133)\n",
      "mul(512,118)\n",
      "don't()\n",
      "mul(329,879)\n",
      "mul(141,130)\n",
      "mul(237,78)\n",
      "mul(391,45)\n",
      "mul(787,970)\n",
      "mul(59,790)\n",
      "mul(399,503)\n",
      "mul(190,97)\n",
      "mul(428,654)\n",
      "mul(350,302)\n",
      "mul(592,241)\n",
      "mul(705,191)\n",
      "mul(50,6)\n",
      "mul(902,106)\n",
      "mul(800,867)\n",
      "mul(709,298)\n",
      "do()\n",
      "mul(31,997)\n",
      "mul(177,184)\n",
      "mul(58,102)\n",
      "mul(489,67)\n",
      "mul(179,994)\n",
      "mul(343,121)\n",
      "mul(315,335)\n",
      "mul(611,869)\n",
      "do()\n",
      "mul(266,851)\n",
      "mul(980,269)\n",
      "mul(971,795)\n",
      "mul(279,554)\n",
      "mul(736,24)\n",
      "mul(500,888)\n",
      "mul(255,25)\n",
      "do()\n",
      "mul(670,579)\n",
      "do()\n",
      "mul(427,50)\n",
      "mul(359,247)\n",
      "mul(862,40)\n",
      "mul(426,212)\n",
      "mul(653,462)\n",
      "mul(15,779)\n",
      "mul(74,351)\n",
      "mul(597,374)\n",
      "do()\n",
      "mul(83,744)\n",
      "mul(423,255)\n",
      "mul(357,9)\n",
      "do()\n",
      "mul(381,962)\n",
      "mul(258,38)\n",
      "mul(624,853)\n",
      "mul(111,225)\n",
      "mul(440,503)\n",
      "mul(840,369)\n",
      "mul(529,595)\n",
      "mul(168,832)\n",
      "mul(658,544)\n",
      "mul(358,878)\n",
      "mul(30,603)\n",
      "do()\n",
      "mul(834,46)\n",
      "mul(132,173)\n",
      "do()\n",
      "mul(487,54)\n",
      "mul(546,92)\n",
      "mul(978,930)\n",
      "mul(693,136)\n",
      "mul(490,906)\n",
      "mul(853,453)\n",
      "mul(720,355)\n",
      "mul(65,942)\n",
      "mul(736,168)\n",
      "mul(106,601)\n",
      "mul(506,458)\n",
      "do()\n",
      "mul(445,231)\n",
      "mul(702,772)\n",
      "mul(721,487)\n",
      "mul(78,576)\n",
      "mul(230,960)\n",
      "mul(279,223)\n",
      "mul(949,79)\n",
      "don't()\n",
      "mul(876,168)\n",
      "mul(936,991)\n",
      "mul(580,536)\n",
      "mul(561,114)\n",
      "mul(55,965)\n",
      "mul(615,265)\n",
      "mul(55,877)\n",
      "mul(418,463)\n",
      "mul(176,831)\n",
      "mul(350,399)\n",
      "mul(847,397)\n",
      "mul(148,609)\n",
      "mul(15,446)\n",
      "don't()\n",
      "mul(92,515)\n",
      "mul(13,795)\n",
      "mul(786,13)\n",
      "do()\n",
      "mul(475,800)\n",
      "do()\n",
      "mul(786,308)\n",
      "mul(305,3)\n",
      "mul(535,976)\n",
      "mul(820,558)\n",
      "mul(715,523)\n",
      "mul(288,378)\n",
      "mul(184,850)\n",
      "mul(957,549)\n",
      "do()\n",
      "mul(347,642)\n",
      "mul(834,376)\n",
      "mul(803,111)\n",
      "mul(143,742)\n",
      "mul(891,385)\n",
      "mul(995,109)\n",
      "mul(414,498)\n",
      "mul(809,958)\n",
      "mul(600,673)\n",
      "mul(261,884)\n",
      "don't()\n",
      "mul(246,229)\n",
      "don't()\n",
      "mul(131,199)\n",
      "don't()\n",
      "mul(13,595)\n",
      "don't()\n",
      "mul(345,947)\n",
      "mul(202,126)\n",
      "mul(637,167)\n",
      "mul(630,666)\n",
      "mul(595,125)\n",
      "mul(493,439)\n",
      "don't()\n",
      "mul(839,198)\n",
      "do()\n",
      "mul(903,555)\n",
      "mul(74,674)\n",
      "mul(428,756)\n",
      "mul(585,685)\n",
      "mul(87,499)\n",
      "mul(585,674)\n",
      "mul(511,978)\n",
      "don't()\n",
      "mul(735,638)\n",
      "mul(897,633)\n",
      "mul(680,8)\n",
      "mul(580,632)\n",
      "mul(936,112)\n",
      "mul(720,608)\n",
      "mul(697,116)\n",
      "mul(842,722)\n",
      "mul(591,920)\n",
      "don't()\n",
      "mul(65,254)\n",
      "mul(696,883)\n",
      "mul(917,413)\n",
      "mul(524,943)\n",
      "mul(465,955)\n",
      "mul(528,18)\n",
      "do()\n",
      "mul(837,821)\n",
      "mul(957,88)\n",
      "mul(446,234)\n",
      "mul(225,735)\n",
      "mul(616,489)\n",
      "mul(841,337)\n",
      "mul(826,883)\n",
      "don't()\n",
      "mul(829,811)\n",
      "mul(435,969)\n",
      "mul(743,179)\n",
      "mul(797,84)\n",
      "mul(934,535)\n",
      "mul(281,662)\n",
      "mul(630,155)\n",
      "mul(81,271)\n",
      "mul(616,154)\n",
      "do()\n",
      "mul(562,475)\n",
      "mul(119,594)\n",
      "mul(738,534)\n",
      "mul(103,712)\n",
      "mul(358,496)\n",
      "mul(48,331)\n",
      "mul(56,877)\n",
      "mul(66,22)\n",
      "mul(543,366)\n",
      "mul(481,102)\n",
      "do()\n",
      "mul(92,160)\n",
      "mul(716,567)\n",
      "mul(316,752)\n",
      "mul(851,254)\n",
      "don't()\n",
      "mul(776,658)\n",
      "mul(724,606)\n",
      "mul(920,733)\n",
      "mul(500,262)\n",
      "do()\n",
      "mul(594,767)\n",
      "mul(69,623)\n",
      "mul(510,559)\n",
      "mul(990,412)\n",
      "mul(627,280)\n",
      "mul(314,481)\n",
      "mul(515,459)\n",
      "do()\n",
      "mul(307,482)\n",
      "mul(460,946)\n",
      "mul(500,943)\n",
      "mul(851,219)\n",
      "mul(942,646)\n",
      "mul(160,832)\n",
      "mul(24,840)\n",
      "mul(344,387)\n",
      "mul(525,285)\n",
      "mul(221,638)\n",
      "don't()\n",
      "mul(91,395)\n",
      "mul(677,682)\n",
      "mul(358,545)\n",
      "mul(697,89)\n",
      "mul(599,952)\n",
      "mul(752,46)\n",
      "mul(803,569)\n",
      "mul(5,223)\n",
      "mul(360,79)\n",
      "mul(657,581)\n",
      "mul(677,274)\n",
      "mul(416,377)\n",
      "mul(784,713)\n",
      "mul(288,526)\n",
      "do()\n",
      "mul(674,809)\n",
      "mul(93,723)\n",
      "mul(588,165)\n",
      "mul(597,872)\n",
      "mul(484,118)\n",
      "mul(805,860)\n",
      "mul(54,678)\n",
      "mul(536,459)\n",
      "mul(364,110)\n",
      "mul(996,17)\n",
      "mul(595,489)\n",
      "mul(672,920)\n",
      "mul(25,575)\n",
      "mul(169,580)\n",
      "mul(575,888)\n",
      "mul(172,538)\n",
      "mul(718,235)\n",
      "mul(281,117)\n",
      "don't()\n",
      "mul(153,278)\n",
      "mul(284,592)\n",
      "mul(416,344)\n",
      "mul(218,315)\n",
      "mul(415,704)\n",
      "mul(367,153)\n",
      "do()\n",
      "mul(298,416)\n",
      "mul(312,424)\n",
      "mul(49,590)\n",
      "mul(482,423)\n",
      "mul(178,565)\n",
      "don't()\n",
      "mul(385,718)\n",
      "mul(875,98)\n",
      "mul(427,44)\n",
      "mul(942,194)\n",
      "mul(558,119)\n",
      "mul(858,264)\n",
      "mul(783,105)\n",
      "do()\n",
      "mul(40,924)\n",
      "mul(311,607)\n",
      "mul(744,908)\n",
      "mul(310,993)\n",
      "mul(455,786)\n",
      "mul(460,406)\n",
      "mul(250,253)\n",
      "mul(205,719)\n",
      "mul(729,531)\n",
      "mul(547,617)\n",
      "mul(791,433)\n",
      "mul(616,548)\n",
      "mul(417,691)\n",
      "mul(548,124)\n",
      "mul(459,792)\n",
      "mul(93,742)\n",
      "mul(38,516)\n",
      "mul(682,71)\n",
      "mul(588,565)\n",
      "do()\n",
      "mul(564,344)\n",
      "mul(58,41)\n",
      "mul(881,91)\n",
      "mul(791,572)\n",
      "mul(264,168)\n",
      "mul(409,229)\n",
      "mul(393,212)\n",
      "do()\n",
      "mul(274,560)\n",
      "mul(778,511)\n",
      "mul(630,304)\n",
      "mul(8,101)\n",
      "mul(823,831)\n",
      "mul(2,756)\n",
      "don't()\n",
      "mul(602,479)\n",
      "mul(849,417)\n",
      "mul(280,463)\n",
      "mul(373,910)\n",
      "mul(835,707)\n",
      "mul(628,69)\n",
      "mul(419,539)\n",
      "mul(534,992)\n",
      "mul(438,915)\n",
      "don't()\n",
      "mul(649,262)\n",
      "mul(867,47)\n",
      "mul(104,808)\n",
      "mul(74,805)\n",
      "mul(217,927)\n",
      "mul(669,965)\n",
      "mul(647,126)\n",
      "mul(52,497)\n",
      "mul(168,794)\n",
      "mul(154,856)\n",
      "mul(197,299)\n",
      "mul(277,463)\n",
      "mul(473,104)\n",
      "mul(655,992)\n",
      "mul(314,422)\n",
      "mul(517,349)\n",
      "mul(815,441)\n",
      "mul(581,636)\n",
      "mul(90,929)\n",
      "mul(465,47)\n",
      "mul(593,303)\n",
      "mul(901,6)\n",
      "mul(254,964)\n",
      "mul(297,705)\n",
      "mul(794,226)\n",
      "mul(724,493)\n",
      "mul(313,610)\n",
      "mul(83,839)\n",
      "mul(149,753)\n",
      "mul(3,784)\n",
      "mul(502,975)\n",
      "mul(106,800)\n",
      "do()\n",
      "mul(330,370)\n",
      "mul(465,263)\n",
      "don't()\n",
      "mul(445,72)\n",
      "mul(550,104)\n",
      "mul(623,888)\n",
      "do()\n",
      "mul(89,377)\n",
      "mul(197,130)\n",
      "mul(627,592)\n",
      "mul(755,450)\n",
      "mul(94,330)\n",
      "mul(440,265)\n",
      "mul(462,481)\n",
      "mul(667,710)\n",
      "mul(676,29)\n",
      "mul(249,944)\n",
      "mul(144,151)\n",
      "mul(513,728)\n",
      "mul(468,141)\n",
      "mul(603,934)\n",
      "mul(70,510)\n",
      "mul(26,892)\n",
      "mul(783,778)\n",
      "mul(775,826)\n",
      "mul(883,142)\n",
      "mul(286,488)\n",
      "mul(207,126)\n",
      "mul(88,811)\n",
      "mul(828,951)\n",
      "mul(281,855)\n",
      "mul(553,325)\n",
      "mul(930,882)\n",
      "mul(410,901)\n",
      "do()\n",
      "mul(714,179)\n",
      "mul(668,570)\n",
      "mul(998,295)\n",
      "mul(947,199)\n",
      "mul(415,221)\n",
      "mul(688,128)\n",
      "mul(394,445)\n",
      "mul(384,810)\n",
      "do()\n",
      "mul(934,449)\n",
      "do()\n",
      "mul(616,317)\n",
      "mul(146,882)\n",
      "mul(152,967)\n",
      "mul(348,501)\n",
      "mul(658,85)\n",
      "mul(801,846)\n",
      "mul(201,50)\n",
      "mul(447,803)\n",
      "mul(423,648)\n",
      "mul(666,375)\n",
      "mul(102,960)\n",
      "mul(503,58)\n",
      "mul(810,988)\n",
      "don't()\n",
      "mul(762,285)\n",
      "mul(268,605)\n",
      "mul(596,753)\n",
      "mul(758,730)\n",
      "mul(276,709)\n",
      "mul(397,362)\n",
      "mul(635,662)\n",
      "mul(609,78)\n",
      "mul(9,351)\n",
      "mul(77,125)\n",
      "mul(614,43)\n",
      "mul(893,290)\n",
      "mul(590,17)\n",
      "mul(931,59)\n",
      "mul(50,444)\n",
      "mul(401,587)\n",
      "mul(872,883)\n",
      "do()\n",
      "mul(856,681)\n",
      "mul(46,203)\n",
      "mul(315,935)\n",
      "mul(451,658)\n",
      "mul(673,921)\n",
      "mul(185,371)\n",
      "mul(412,471)\n",
      "mul(566,75)\n",
      "don't()\n",
      "mul(923,512)\n",
      "mul(21,640)\n",
      "mul(755,282)\n",
      "mul(442,981)\n",
      "mul(876,31)\n",
      "mul(740,627)\n",
      "mul(616,896)\n",
      "mul(475,422)\n",
      "mul(153,843)\n",
      "mul(348,553)\n",
      "mul(542,601)\n",
      "mul(567,799)\n",
      "mul(961,457)\n",
      "mul(337,246)\n",
      "mul(602,592)\n",
      "mul(271,610)\n",
      "mul(183,953)\n",
      "mul(346,464)\n",
      "mul(533,382)\n",
      "mul(253,576)\n",
      "mul(903,385)\n",
      "mul(389,764)\n",
      "mul(445,854)\n",
      "mul(714,731)\n",
      "do()\n",
      "mul(180,318)\n",
      "mul(130,856)\n",
      "mul(796,929)\n",
      "mul(557,285)\n",
      "mul(538,865)\n",
      "mul(826,278)\n",
      "mul(847,194)\n",
      "mul(997,603)\n",
      "do()\n",
      "mul(434,51)\n",
      "mul(18,446)\n",
      "mul(540,181)\n",
      "mul(636,536)\n",
      "mul(468,530)\n",
      "mul(276,519)\n",
      "mul(780,751)\n",
      "mul(635,606)\n",
      "don't()\n",
      "mul(491,700)\n",
      "mul(887,685)\n",
      "mul(17,441)\n",
      "mul(525,434)\n",
      "mul(760,445)\n",
      "mul(759,803)\n",
      "mul(584,425)\n",
      "mul(386,687)\n",
      "mul(564,88)\n",
      "mul(504,612)\n",
      "mul(21,237)\n",
      "mul(42,308)\n",
      "mul(29,791)\n",
      "mul(248,71)\n",
      "mul(327,578)\n",
      "don't()\n",
      "mul(808,60)\n",
      "mul(207,689)\n",
      "mul(81,901)\n",
      "mul(466,327)\n",
      "do()\n",
      "mul(442,378)\n",
      "mul(407,519)\n",
      "mul(157,451)\n",
      "mul(387,624)\n",
      "don't()\n",
      "mul(847,645)\n",
      "don't()\n",
      "mul(694,504)\n",
      "mul(480,559)\n",
      "mul(225,926)\n",
      "mul(631,126)\n",
      "mul(712,802)\n",
      "mul(748,579)\n",
      "don't()\n",
      "mul(48,962)\n",
      "mul(952,98)\n",
      "mul(850,784)\n",
      "mul(420,384)\n",
      "mul(667,514)\n",
      "don't()\n",
      "mul(401,476)\n",
      "mul(441,886)\n",
      "do()\n",
      "mul(167,382)\n",
      "mul(881,865)\n",
      "mul(335,170)\n",
      "mul(158,919)\n",
      "mul(497,843)\n",
      "mul(407,637)\n",
      "mul(377,786)\n",
      "do()\n",
      "mul(63,526)\n",
      "mul(499,65)\n",
      "mul(830,277)\n",
      "mul(975,180)\n",
      "mul(366,372)\n",
      "mul(109,618)\n",
      "mul(959,532)\n",
      "mul(660,115)\n",
      "mul(48,647)\n",
      "mul(78,243)\n",
      "mul(798,985)\n",
      "mul(20,376)\n",
      "mul(905,28)\n",
      "mul(713,649)\n",
      "mul(357,904)\n",
      "mul(850,489)\n",
      "mul(509,713)\n",
      "mul(321,759)\n",
      "mul(631,140)\n",
      "mul(757,485)\n",
      "mul(649,879)\n",
      "mul(147,693)\n",
      "mul(87,949)\n",
      "mul(351,115)\n",
      "mul(548,692)\n",
      "mul(52,566)\n",
      "mul(427,269)\n",
      "mul(901,457)\n",
      "mul(600,957)\n",
      "mul(734,851)\n",
      "mul(383,59)\n",
      "don't()\n",
      "mul(859,668)\n",
      "mul(483,700)\n",
      "mul(320,309)\n",
      "mul(497,511)\n",
      "mul(95,653)\n",
      "mul(572,330)\n",
      "mul(809,308)\n",
      "mul(29,810)\n",
      "mul(915,147)\n",
      "mul(849,988)\n",
      "mul(129,470)\n",
      "do()\n",
      "mul(590,753)\n",
      "mul(396,339)\n",
      "mul(613,991)\n",
      "mul(899,674)\n",
      "do()\n",
      "mul(502,495)\n",
      "do()\n",
      "mul(454,97)\n",
      "mul(876,925)\n",
      "mul(975,151)\n",
      "mul(136,404)\n",
      "mul(487,75)\n",
      "mul(870,786)\n",
      "mul(316,132)\n",
      "mul(169,959)\n",
      "mul(641,834)\n",
      "mul(479,27)\n",
      "mul(133,617)\n",
      "mul(211,614)\n",
      "mul(454,721)\n",
      "do()\n",
      "mul(818,834)\n",
      "mul(863,7)\n",
      "mul(318,778)\n",
      "mul(572,286)\n",
      "mul(532,946)\n",
      "mul(318,32)\n",
      "mul(883,395)\n",
      "mul(295,998)\n",
      "mul(459,716)\n",
      "mul(723,19)\n",
      "mul(25,912)\n",
      "mul(220,998)\n",
      "mul(537,203)\n",
      "mul(179,953)\n",
      "mul(654,670)\n",
      "mul(120,530)\n",
      "mul(555,485)\n",
      "mul(849,203)\n",
      "mul(874,736)\n",
      "mul(482,451)\n",
      "mul(186,966)\n",
      "mul(918,369)\n",
      "mul(452,814)\n",
      "mul(983,42)\n",
      "don't()\n",
      "mul(161,632)\n",
      "mul(434,106)\n",
      "mul(137,656)\n",
      "mul(198,859)\n",
      "mul(589,609)\n",
      "mul(79,388)\n",
      "do()\n",
      "mul(673,936)\n",
      "mul(999,158)\n",
      "mul(600,817)\n",
      "mul(503,532)\n",
      "mul(157,960)\n",
      "mul(190,111)\n",
      "mul(298,41)\n",
      "mul(467,828)\n",
      "mul(745,381)\n",
      "mul(716,679)\n",
      "mul(901,414)\n",
      "mul(948,543)\n",
      "mul(108,479)\n",
      "mul(359,23)\n",
      "mul(186,477)\n",
      "mul(714,701)\n",
      "mul(449,342)\n",
      "mul(757,350)\n",
      "mul(765,807)\n",
      "mul(239,945)\n",
      "mul(50,44)\n",
      "mul(808,115)\n",
      "mul(282,601)\n",
      "mul(429,560)\n",
      "mul(495,752)\n",
      "mul(589,314)\n",
      "don't()\n",
      "mul(11,30)\n",
      "mul(62,714)\n",
      "mul(770,297)\n",
      "mul(470,300)\n",
      "mul(565,583)\n",
      "mul(188,39)\n",
      "mul(502,616)\n",
      "mul(24,160)\n",
      "mul(132,324)\n",
      "mul(756,950)\n",
      "mul(905,694)\n",
      "mul(52,222)\n",
      "mul(726,995)\n",
      "mul(948,887)\n",
      "mul(396,68)\n",
      "mul(939,722)\n",
      "mul(917,716)\n",
      "mul(174,257)\n",
      "mul(673,441)\n",
      "do()\n",
      "mul(202,788)\n",
      "mul(842,734)\n",
      "mul(533,78)\n",
      "don't()\n",
      "mul(595,87)\n",
      "do()\n",
      "mul(543,798)\n",
      "mul(118,844)\n",
      "mul(615,214)\n",
      "do()\n",
      "mul(254,489)\n",
      "mul(209,427)\n",
      "mul(112,898)\n",
      "mul(400,703)\n",
      "mul(347,239)\n",
      "mul(695,520)\n",
      "mul(595,418)\n",
      "mul(128,623)\n",
      "mul(489,451)\n",
      "mul(426,973)\n",
      "don't()\n",
      "mul(384,927)\n",
      "mul(210,978)\n",
      "100450138\n"
     ]
    }
   ],
   "source": [
    "import re\n",
    "\n",
    "# pattern = r\"mul\\(\\d+,\\d+\\}|do\\(\\)|don't\\(\\)\"\n",
    "pattern = r\"mul\\(\\d+,\\d+\\)|do\\(\\)|don't\\(\\)\"\n",
    "matches = re.findall(pattern, open(\"inputs/day3_1.txt\").read())\n",
    "\n",
    "result = 0\n",
    "flag = True\n",
    "for match in matches:\n",
    "    print(match)\n",
    "    if match == \"do()\":\n",
    "        flag = True\n",
    "    elif match == \"don't()\":\n",
    "        flag = False\n",
    "    else:\n",
    "        if flag:\n",
    "            x, y = map(int, match[4:-1].split(\",\"))\n",
    "            result += x * y\n",
    "\n",
    "print(result)"
   ]
  },
  {
   "cell_type": "code",
   "execution_count": null,
   "id": "fc4a5e94-22e1-4b20-b017-29ea3d435097",
   "metadata": {},
   "outputs": [],
   "source": []
  }
 ],
 "metadata": {
  "kernelspec": {
   "display_name": "Python 3 (ipykernel)",
   "language": "python",
   "name": "python3"
  },
  "language_info": {
   "codemirror_mode": {
    "name": "ipython",
    "version": 3
   },
   "file_extension": ".py",
   "mimetype": "text/x-python",
   "name": "python",
   "nbconvert_exporter": "python",
   "pygments_lexer": "ipython3",
   "version": "3.12.2"
  }
 },
 "nbformat": 4,
 "nbformat_minor": 5
}
